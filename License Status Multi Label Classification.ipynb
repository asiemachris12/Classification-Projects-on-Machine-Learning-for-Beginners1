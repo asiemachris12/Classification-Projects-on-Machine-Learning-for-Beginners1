{
 "cells": [
  {
   "cell_type": "markdown",
   "metadata": {},
   "source": [
    "# License Status Prediction - Multiclass Classification\n",
    "<hr style=\"border:1px solid gray\"> </hr>"
   ]
  },
  {
   "cell_type": "markdown",
   "metadata": {},
   "source": [
    "## Contents.\n",
    "\n",
    "    1. Problem Description\n",
    "    2. Data Exploration\n",
    "    3. Feature Selection\n",
    "    4. KNN Algorithm\n",
    "    5. Naive Bias\n",
    "    5. Logistic Regression\n",
    "    6. Decisoin Tree\n",
    "    \n",
    "--------------------------------------------------------------------------------------------------------------------------------\n"
   ]
  },
  {
   "cell_type": "markdown",
   "metadata": {},
   "source": [
    "### Problem Description\n",
    "\n",
    "We are given a license dataset which holds various information related the business license , The objective of out problem is to predict license Status for the given business. Lets start with delving deep into the data.\n",
    "________________________________________________________________________________________________________________________________"
   ]
  },
  {
   "cell_type": "code",
   "execution_count": 1,
   "metadata": {},
   "outputs": [
    {
     "name": "stdout",
     "output_type": "stream",
     "text": [
      "Defaulting to user installation because normal site-packages is not writeable\n",
      "Requirement already satisfied: category_encoders in /usr/local/lib/python3.8/site-packages (2.4.0)\n",
      "Requirement already satisfied: patsy>=0.5.1 in /usr/local/lib/python3.8/site-packages (from category_encoders) (1.0.1)\n",
      "Requirement already satisfied: numpy>=1.14.0 in /usr/local/lib/python3.8/site-packages (from category_encoders) (1.21.5)\n",
      "Requirement already satisfied: pandas>=0.21.1 in /usr/local/lib/python3.8/site-packages (from category_encoders) (1.3.5)\n",
      "Requirement already satisfied: scipy>=1.0.0 in /usr/local/lib/python3.8/site-packages (from category_encoders) (1.10.1)\n",
      "Requirement already satisfied: statsmodels>=0.9.0 in /usr/local/lib/python3.8/site-packages (from category_encoders) (0.14.1)\n",
      "Requirement already satisfied: scikit-learn>=0.20.0 in /usr/local/lib/python3.8/site-packages (from category_encoders) (1.0.2)\n",
      "Requirement already satisfied: python-dateutil>=2.7.3 in /usr/local/lib/python3.8/site-packages (from pandas>=0.21.1->category_encoders) (2.9.0.post0)\n",
      "Requirement already satisfied: pytz>=2017.3 in /usr/local/lib/python3.8/site-packages (from pandas>=0.21.1->category_encoders) (2024.2)\n",
      "Requirement already satisfied: joblib>=0.11 in /usr/local/lib/python3.8/site-packages (from scikit-learn>=0.20.0->category_encoders) (1.4.2)\n",
      "Requirement already satisfied: threadpoolctl>=2.0.0 in /usr/local/lib/python3.8/site-packages (from scikit-learn>=0.20.0->category_encoders) (3.5.0)\n",
      "Requirement already satisfied: packaging>=21.3 in /usr/local/lib/python3.8/site-packages (from statsmodels>=0.9.0->category_encoders) (21.3)\n",
      "Requirement already satisfied: pyparsing!=3.0.5,>=2.0.2 in /usr/local/lib/python3.8/site-packages (from packaging>=21.3->statsmodels>=0.9.0->category_encoders) (3.1.4)\n",
      "Requirement already satisfied: six>=1.5 in /usr/local/lib/python3.8/site-packages (from python-dateutil>=2.7.3->pandas>=0.21.1->category_encoders) (1.17.0)\n",
      "\n",
      "\u001b[1m[\u001b[0m\u001b[34;49mnotice\u001b[0m\u001b[1;39;49m]\u001b[0m\u001b[39;49m A new release of pip is available: \u001b[0m\u001b[31;49m23.0.1\u001b[0m\u001b[39;49m -> \u001b[0m\u001b[32;49m24.3.1\u001b[0m\n",
      "\u001b[1m[\u001b[0m\u001b[34;49mnotice\u001b[0m\u001b[1;39;49m]\u001b[0m\u001b[39;49m To update, run: \u001b[0m\u001b[32;49mpip install --upgrade pip\u001b[0m\n",
      "Note: you may need to restart the kernel to use updated packages.\n"
     ]
    }
   ],
   "source": [
    "%pip install category_encoders"
   ]
  },
  {
   "cell_type": "code",
   "execution_count": 19,
   "metadata": {},
   "outputs": [],
   "source": [
    "import pandas as pd\n",
    "import numpy as np\n",
    "import matplotlib.pyplot as plt\n",
    "%matplotlib inline\n",
    "import os\n",
    "import category_encoders as ce"
   ]
  },
  {
   "cell_type": "code",
   "execution_count": 20,
   "metadata": {},
   "outputs": [
    {
     "name": "stderr",
     "output_type": "stream",
     "text": [
      "/usr/local/lib/python3.8/site-packages/IPython/core/interactiveshell.py:3508: DtypeWarning: Columns (9) have mixed types.Specify dtype option on import or set low_memory=False.\n",
      "  exec(code_obj, self.user_global_ns, self.user_ns)\n"
     ]
    },
    {
     "name": "stdout",
     "output_type": "stream",
     "text": [
      "(85895, 32)\n"
     ]
    },
    {
     "data": {
      "text/html": [
       "<div>\n",
       "<style scoped>\n",
       "    .dataframe tbody tr th:only-of-type {\n",
       "        vertical-align: middle;\n",
       "    }\n",
       "\n",
       "    .dataframe tbody tr th {\n",
       "        vertical-align: top;\n",
       "    }\n",
       "\n",
       "    .dataframe thead th {\n",
       "        text-align: right;\n",
       "    }\n",
       "</style>\n",
       "<table border=\"1\" class=\"dataframe\">\n",
       "  <thead>\n",
       "    <tr style=\"text-align: right;\">\n",
       "      <th></th>\n",
       "      <th>0</th>\n",
       "      <th>1</th>\n",
       "      <th>2</th>\n",
       "      <th>3</th>\n",
       "      <th>4</th>\n",
       "    </tr>\n",
       "  </thead>\n",
       "  <tbody>\n",
       "    <tr>\n",
       "      <th>ID</th>\n",
       "      <td>35342-20020816</td>\n",
       "      <td>1358463-20051116</td>\n",
       "      <td>1980233-20090722</td>\n",
       "      <td>1476582-20040211</td>\n",
       "      <td>1141408-20080516</td>\n",
       "    </tr>\n",
       "    <tr>\n",
       "      <th>LICENSE ID</th>\n",
       "      <td>1256593</td>\n",
       "      <td>1639294</td>\n",
       "      <td>1980233</td>\n",
       "      <td>1476582</td>\n",
       "      <td>1896750</td>\n",
       "    </tr>\n",
       "    <tr>\n",
       "      <th>ACCOUNT NUMBER</th>\n",
       "      <td>32811</td>\n",
       "      <td>262311</td>\n",
       "      <td>345008</td>\n",
       "      <td>273121</td>\n",
       "      <td>213785</td>\n",
       "    </tr>\n",
       "    <tr>\n",
       "      <th>SITE NUMBER</th>\n",
       "      <td>1</td>\n",
       "      <td>29</td>\n",
       "      <td>1</td>\n",
       "      <td>1</td>\n",
       "      <td>1</td>\n",
       "    </tr>\n",
       "    <tr>\n",
       "      <th>LEGAL NAME</th>\n",
       "      <td>CARMEN CAHUE</td>\n",
       "      <td>ISLA TROPICAL, INC.</td>\n",
       "      <td>DJS REMODELING</td>\n",
       "      <td>ALL-BRY CONSTRUCTION CO.</td>\n",
       "      <td>MCDONOUGH MECHANICAL SERVICE</td>\n",
       "    </tr>\n",
       "    <tr>\n",
       "      <th>DOING BUSINESS AS NAME</th>\n",
       "      <td>CLAUDIA'S BRIDAL SHOP</td>\n",
       "      <td>ISLA TROPICAL</td>\n",
       "      <td>DJS REMODELING, INC.</td>\n",
       "      <td>ALL-BRY CONSTRUCTION CO.</td>\n",
       "      <td>MCDONOUGH MECHANICAL SERVICE</td>\n",
       "    </tr>\n",
       "    <tr>\n",
       "      <th>ADDRESS</th>\n",
       "      <td>2625 S CENTRAL PARK AVE  1</td>\n",
       "      <td>2825 W MONTROSE AVE</td>\n",
       "      <td>1605  CLAVEY RD 1</td>\n",
       "      <td>8  NORTH TRAIL</td>\n",
       "      <td>4081  JOSEPH DR</td>\n",
       "    </tr>\n",
       "    <tr>\n",
       "      <th>CITY</th>\n",
       "      <td>CHICAGO</td>\n",
       "      <td>CHICAGO</td>\n",
       "      <td>HIGHLAND</td>\n",
       "      <td>LEMONT</td>\n",
       "      <td>WAUKEGAN</td>\n",
       "    </tr>\n",
       "    <tr>\n",
       "      <th>STATE</th>\n",
       "      <td>IL</td>\n",
       "      <td>IL</td>\n",
       "      <td>IL</td>\n",
       "      <td>IL</td>\n",
       "      <td>IL</td>\n",
       "    </tr>\n",
       "    <tr>\n",
       "      <th>ZIP CODE</th>\n",
       "      <td>60623.0</td>\n",
       "      <td>60618</td>\n",
       "      <td>60035</td>\n",
       "      <td>60439</td>\n",
       "      <td>60087</td>\n",
       "    </tr>\n",
       "    <tr>\n",
       "      <th>WARD</th>\n",
       "      <td>22.0</td>\n",
       "      <td>33.0</td>\n",
       "      <td>NaN</td>\n",
       "      <td>NaN</td>\n",
       "      <td>NaN</td>\n",
       "    </tr>\n",
       "    <tr>\n",
       "      <th>PRECINCT</th>\n",
       "      <td>28.0</td>\n",
       "      <td>23.0</td>\n",
       "      <td>NaN</td>\n",
       "      <td>NaN</td>\n",
       "      <td>NaN</td>\n",
       "    </tr>\n",
       "    <tr>\n",
       "      <th>WARD PRECINCT</th>\n",
       "      <td>22-28</td>\n",
       "      <td>33-23</td>\n",
       "      <td>NaN</td>\n",
       "      <td>NaN</td>\n",
       "      <td>NaN</td>\n",
       "    </tr>\n",
       "    <tr>\n",
       "      <th>POLICE DISTRICT</th>\n",
       "      <td>10.0</td>\n",
       "      <td>17.0</td>\n",
       "      <td>NaN</td>\n",
       "      <td>NaN</td>\n",
       "      <td>NaN</td>\n",
       "    </tr>\n",
       "    <tr>\n",
       "      <th>LICENSE CODE</th>\n",
       "      <td>1010</td>\n",
       "      <td>1315</td>\n",
       "      <td>1011</td>\n",
       "      <td>1010</td>\n",
       "      <td>1010</td>\n",
       "    </tr>\n",
       "    <tr>\n",
       "      <th>LICENSE DESCRIPTION</th>\n",
       "      <td>Limited Business License</td>\n",
       "      <td>Mobile Food Dispenser</td>\n",
       "      <td>Home Repair</td>\n",
       "      <td>Limited Business License</td>\n",
       "      <td>Limited Business License</td>\n",
       "    </tr>\n",
       "    <tr>\n",
       "      <th>LICENSE NUMBER</th>\n",
       "      <td>35342.0</td>\n",
       "      <td>1358463.0</td>\n",
       "      <td>1980233.0</td>\n",
       "      <td>1476582.0</td>\n",
       "      <td>1141408.0</td>\n",
       "    </tr>\n",
       "    <tr>\n",
       "      <th>APPLICATION TYPE</th>\n",
       "      <td>RENEW</td>\n",
       "      <td>RENEW</td>\n",
       "      <td>ISSUE</td>\n",
       "      <td>ISSUE</td>\n",
       "      <td>RENEW</td>\n",
       "    </tr>\n",
       "    <tr>\n",
       "      <th>APPLICATION CREATED DATE</th>\n",
       "      <td>NaN</td>\n",
       "      <td>NaN</td>\n",
       "      <td>2009-06-29T00:00:00</td>\n",
       "      <td>2004-02-10T00:00:00</td>\n",
       "      <td>NaN</td>\n",
       "    </tr>\n",
       "    <tr>\n",
       "      <th>APPLICATION REQUIREMENTS COMPLETE</th>\n",
       "      <td>2002-06-28T00:00:00</td>\n",
       "      <td>2005-09-22T00:00:00</td>\n",
       "      <td>2009-07-22T00:00:00</td>\n",
       "      <td>2004-02-10T00:00:00</td>\n",
       "      <td>2008-03-24T00:00:00</td>\n",
       "    </tr>\n",
       "    <tr>\n",
       "      <th>PAYMENT DATE</th>\n",
       "      <td>2002-08-21T00:00:00</td>\n",
       "      <td>2005-11-03T00:00:00</td>\n",
       "      <td>2009-07-22T00:00:00</td>\n",
       "      <td>2004-02-10T00:00:00</td>\n",
       "      <td>2008-06-04T00:00:00</td>\n",
       "    </tr>\n",
       "    <tr>\n",
       "      <th>CONDITIONAL APPROVAL</th>\n",
       "      <td>N</td>\n",
       "      <td>N</td>\n",
       "      <td>N</td>\n",
       "      <td>N</td>\n",
       "      <td>N</td>\n",
       "    </tr>\n",
       "    <tr>\n",
       "      <th>LICENSE TERM START DATE</th>\n",
       "      <td>2002-08-16T00:00:00</td>\n",
       "      <td>2005-11-16T00:00:00</td>\n",
       "      <td>2009-07-22T00:00:00</td>\n",
       "      <td>2004-02-11T00:00:00</td>\n",
       "      <td>2008-05-16T00:00:00</td>\n",
       "    </tr>\n",
       "    <tr>\n",
       "      <th>LICENSE TERM EXPIRATION DATE</th>\n",
       "      <td>2003-08-15T00:00:00</td>\n",
       "      <td>2006-11-15T00:00:00</td>\n",
       "      <td>2011-07-15T00:00:00</td>\n",
       "      <td>2005-02-15T00:00:00</td>\n",
       "      <td>2010-05-15T00:00:00</td>\n",
       "    </tr>\n",
       "    <tr>\n",
       "      <th>LICENSE APPROVED FOR ISSUANCE</th>\n",
       "      <td>2002-08-21T00:00:00</td>\n",
       "      <td>2006-04-05T00:00:00</td>\n",
       "      <td>2009-07-22T00:00:00</td>\n",
       "      <td>2004-02-10T00:00:00</td>\n",
       "      <td>2008-06-04T00:00:00</td>\n",
       "    </tr>\n",
       "    <tr>\n",
       "      <th>DATE ISSUED</th>\n",
       "      <td>2006-04-11T00:00:00</td>\n",
       "      <td>2006-06-12T00:00:00</td>\n",
       "      <td>2009-07-22T00:00:00</td>\n",
       "      <td>2004-02-11T00:00:00</td>\n",
       "      <td>2008-06-05T00:00:00</td>\n",
       "    </tr>\n",
       "    <tr>\n",
       "      <th>LICENSE STATUS CHANGE DATE</th>\n",
       "      <td>NaN</td>\n",
       "      <td>2006-06-15T00:00:00</td>\n",
       "      <td>NaN</td>\n",
       "      <td>NaN</td>\n",
       "      <td>NaN</td>\n",
       "    </tr>\n",
       "    <tr>\n",
       "      <th>SSA</th>\n",
       "      <td>25.0</td>\n",
       "      <td>60.0</td>\n",
       "      <td>NaN</td>\n",
       "      <td>NaN</td>\n",
       "      <td>NaN</td>\n",
       "    </tr>\n",
       "    <tr>\n",
       "      <th>LATITUDE</th>\n",
       "      <td>41.843613</td>\n",
       "      <td>41.961132</td>\n",
       "      <td>NaN</td>\n",
       "      <td>NaN</td>\n",
       "      <td>NaN</td>\n",
       "    </tr>\n",
       "    <tr>\n",
       "      <th>LONGITUDE</th>\n",
       "      <td>-87.714618</td>\n",
       "      <td>-87.699626</td>\n",
       "      <td>NaN</td>\n",
       "      <td>NaN</td>\n",
       "      <td>NaN</td>\n",
       "    </tr>\n",
       "    <tr>\n",
       "      <th>LOCATION</th>\n",
       "      <td>{'latitude': '41.843612879431845', 'longitude'...</td>\n",
       "      <td>{'latitude': '41.96113244107215', 'longitude':...</td>\n",
       "      <td>NaN</td>\n",
       "      <td>NaN</td>\n",
       "      <td>NaN</td>\n",
       "    </tr>\n",
       "    <tr>\n",
       "      <th>LICENSE STATUS</th>\n",
       "      <td>AAI</td>\n",
       "      <td>AAC</td>\n",
       "      <td>AAI</td>\n",
       "      <td>AAI</td>\n",
       "      <td>AAI</td>\n",
       "    </tr>\n",
       "  </tbody>\n",
       "</table>\n",
       "</div>"
      ],
      "text/plain": [
       "                                                                                   0  \\\n",
       "ID                                                                    35342-20020816   \n",
       "LICENSE ID                                                                   1256593   \n",
       "ACCOUNT NUMBER                                                                 32811   \n",
       "SITE NUMBER                                                                        1   \n",
       "LEGAL NAME                                                              CARMEN CAHUE   \n",
       "DOING BUSINESS AS NAME                                         CLAUDIA'S BRIDAL SHOP   \n",
       "ADDRESS                                                   2625 S CENTRAL PARK AVE  1   \n",
       "CITY                                                                         CHICAGO   \n",
       "STATE                                                                             IL   \n",
       "ZIP CODE                                                                     60623.0   \n",
       "WARD                                                                            22.0   \n",
       "PRECINCT                                                                        28.0   \n",
       "WARD PRECINCT                                                                  22-28   \n",
       "POLICE DISTRICT                                                                 10.0   \n",
       "LICENSE CODE                                                                    1010   \n",
       "LICENSE DESCRIPTION                                         Limited Business License   \n",
       "LICENSE NUMBER                                                               35342.0   \n",
       "APPLICATION TYPE                                                               RENEW   \n",
       "APPLICATION CREATED DATE                                                         NaN   \n",
       "APPLICATION REQUIREMENTS COMPLETE                                2002-06-28T00:00:00   \n",
       "PAYMENT DATE                                                     2002-08-21T00:00:00   \n",
       "CONDITIONAL APPROVAL                                                               N   \n",
       "LICENSE TERM START DATE                                          2002-08-16T00:00:00   \n",
       "LICENSE TERM EXPIRATION DATE                                     2003-08-15T00:00:00   \n",
       "LICENSE APPROVED FOR ISSUANCE                                    2002-08-21T00:00:00   \n",
       "DATE ISSUED                                                      2006-04-11T00:00:00   \n",
       "LICENSE STATUS CHANGE DATE                                                       NaN   \n",
       "SSA                                                                             25.0   \n",
       "LATITUDE                                                                   41.843613   \n",
       "LONGITUDE                                                                 -87.714618   \n",
       "LOCATION                           {'latitude': '41.843612879431845', 'longitude'...   \n",
       "LICENSE STATUS                                                                   AAI   \n",
       "\n",
       "                                                                                   1  \\\n",
       "ID                                                                  1358463-20051116   \n",
       "LICENSE ID                                                                   1639294   \n",
       "ACCOUNT NUMBER                                                                262311   \n",
       "SITE NUMBER                                                                       29   \n",
       "LEGAL NAME                                                       ISLA TROPICAL, INC.   \n",
       "DOING BUSINESS AS NAME                                                 ISLA TROPICAL   \n",
       "ADDRESS                                                          2825 W MONTROSE AVE   \n",
       "CITY                                                                         CHICAGO   \n",
       "STATE                                                                             IL   \n",
       "ZIP CODE                                                                       60618   \n",
       "WARD                                                                            33.0   \n",
       "PRECINCT                                                                        23.0   \n",
       "WARD PRECINCT                                                                  33-23   \n",
       "POLICE DISTRICT                                                                 17.0   \n",
       "LICENSE CODE                                                                    1315   \n",
       "LICENSE DESCRIPTION                                            Mobile Food Dispenser   \n",
       "LICENSE NUMBER                                                             1358463.0   \n",
       "APPLICATION TYPE                                                               RENEW   \n",
       "APPLICATION CREATED DATE                                                         NaN   \n",
       "APPLICATION REQUIREMENTS COMPLETE                                2005-09-22T00:00:00   \n",
       "PAYMENT DATE                                                     2005-11-03T00:00:00   \n",
       "CONDITIONAL APPROVAL                                                               N   \n",
       "LICENSE TERM START DATE                                          2005-11-16T00:00:00   \n",
       "LICENSE TERM EXPIRATION DATE                                     2006-11-15T00:00:00   \n",
       "LICENSE APPROVED FOR ISSUANCE                                    2006-04-05T00:00:00   \n",
       "DATE ISSUED                                                      2006-06-12T00:00:00   \n",
       "LICENSE STATUS CHANGE DATE                                       2006-06-15T00:00:00   \n",
       "SSA                                                                             60.0   \n",
       "LATITUDE                                                                   41.961132   \n",
       "LONGITUDE                                                                 -87.699626   \n",
       "LOCATION                           {'latitude': '41.96113244107215', 'longitude':...   \n",
       "LICENSE STATUS                                                                   AAC   \n",
       "\n",
       "                                                      2  \\\n",
       "ID                                     1980233-20090722   \n",
       "LICENSE ID                                      1980233   \n",
       "ACCOUNT NUMBER                                   345008   \n",
       "SITE NUMBER                                           1   \n",
       "LEGAL NAME                               DJS REMODELING   \n",
       "DOING BUSINESS AS NAME             DJS REMODELING, INC.   \n",
       "ADDRESS                               1605  CLAVEY RD 1   \n",
       "CITY                                           HIGHLAND   \n",
       "STATE                                                IL   \n",
       "ZIP CODE                                          60035   \n",
       "WARD                                                NaN   \n",
       "PRECINCT                                            NaN   \n",
       "WARD PRECINCT                                       NaN   \n",
       "POLICE DISTRICT                                     NaN   \n",
       "LICENSE CODE                                       1011   \n",
       "LICENSE DESCRIPTION                         Home Repair   \n",
       "LICENSE NUMBER                                1980233.0   \n",
       "APPLICATION TYPE                                  ISSUE   \n",
       "APPLICATION CREATED DATE            2009-06-29T00:00:00   \n",
       "APPLICATION REQUIREMENTS COMPLETE   2009-07-22T00:00:00   \n",
       "PAYMENT DATE                        2009-07-22T00:00:00   \n",
       "CONDITIONAL APPROVAL                                  N   \n",
       "LICENSE TERM START DATE             2009-07-22T00:00:00   \n",
       "LICENSE TERM EXPIRATION DATE        2011-07-15T00:00:00   \n",
       "LICENSE APPROVED FOR ISSUANCE       2009-07-22T00:00:00   \n",
       "DATE ISSUED                         2009-07-22T00:00:00   \n",
       "LICENSE STATUS CHANGE DATE                          NaN   \n",
       "SSA                                                 NaN   \n",
       "LATITUDE                                            NaN   \n",
       "LONGITUDE                                           NaN   \n",
       "LOCATION                                            NaN   \n",
       "LICENSE STATUS                                      AAI   \n",
       "\n",
       "                                                          3  \\\n",
       "ID                                         1476582-20040211   \n",
       "LICENSE ID                                          1476582   \n",
       "ACCOUNT NUMBER                                       273121   \n",
       "SITE NUMBER                                               1   \n",
       "LEGAL NAME                         ALL-BRY CONSTRUCTION CO.   \n",
       "DOING BUSINESS AS NAME             ALL-BRY CONSTRUCTION CO.   \n",
       "ADDRESS                                      8  NORTH TRAIL   \n",
       "CITY                                                 LEMONT   \n",
       "STATE                                                    IL   \n",
       "ZIP CODE                                              60439   \n",
       "WARD                                                    NaN   \n",
       "PRECINCT                                                NaN   \n",
       "WARD PRECINCT                                           NaN   \n",
       "POLICE DISTRICT                                         NaN   \n",
       "LICENSE CODE                                           1010   \n",
       "LICENSE DESCRIPTION                Limited Business License   \n",
       "LICENSE NUMBER                                    1476582.0   \n",
       "APPLICATION TYPE                                      ISSUE   \n",
       "APPLICATION CREATED DATE                2004-02-10T00:00:00   \n",
       "APPLICATION REQUIREMENTS COMPLETE       2004-02-10T00:00:00   \n",
       "PAYMENT DATE                            2004-02-10T00:00:00   \n",
       "CONDITIONAL APPROVAL                                      N   \n",
       "LICENSE TERM START DATE                 2004-02-11T00:00:00   \n",
       "LICENSE TERM EXPIRATION DATE            2005-02-15T00:00:00   \n",
       "LICENSE APPROVED FOR ISSUANCE           2004-02-10T00:00:00   \n",
       "DATE ISSUED                             2004-02-11T00:00:00   \n",
       "LICENSE STATUS CHANGE DATE                              NaN   \n",
       "SSA                                                     NaN   \n",
       "LATITUDE                                                NaN   \n",
       "LONGITUDE                                               NaN   \n",
       "LOCATION                                                NaN   \n",
       "LICENSE STATUS                                          AAI   \n",
       "\n",
       "                                                              4  \n",
       "ID                                             1141408-20080516  \n",
       "LICENSE ID                                              1896750  \n",
       "ACCOUNT NUMBER                                           213785  \n",
       "SITE NUMBER                                                   1  \n",
       "LEGAL NAME                         MCDONOUGH MECHANICAL SERVICE  \n",
       "DOING BUSINESS AS NAME             MCDONOUGH MECHANICAL SERVICE  \n",
       "ADDRESS                                         4081  JOSEPH DR  \n",
       "CITY                                                   WAUKEGAN  \n",
       "STATE                                                        IL  \n",
       "ZIP CODE                                                  60087  \n",
       "WARD                                                        NaN  \n",
       "PRECINCT                                                    NaN  \n",
       "WARD PRECINCT                                               NaN  \n",
       "POLICE DISTRICT                                             NaN  \n",
       "LICENSE CODE                                               1010  \n",
       "LICENSE DESCRIPTION                    Limited Business License  \n",
       "LICENSE NUMBER                                        1141408.0  \n",
       "APPLICATION TYPE                                          RENEW  \n",
       "APPLICATION CREATED DATE                                    NaN  \n",
       "APPLICATION REQUIREMENTS COMPLETE           2008-03-24T00:00:00  \n",
       "PAYMENT DATE                                2008-06-04T00:00:00  \n",
       "CONDITIONAL APPROVAL                                          N  \n",
       "LICENSE TERM START DATE                     2008-05-16T00:00:00  \n",
       "LICENSE TERM EXPIRATION DATE                2010-05-15T00:00:00  \n",
       "LICENSE APPROVED FOR ISSUANCE               2008-06-04T00:00:00  \n",
       "DATE ISSUED                                 2008-06-05T00:00:00  \n",
       "LICENSE STATUS CHANGE DATE                                  NaN  \n",
       "SSA                                                         NaN  \n",
       "LATITUDE                                                    NaN  \n",
       "LONGITUDE                                                   NaN  \n",
       "LOCATION                                                    NaN  \n",
       "LICENSE STATUS                                              AAI  "
      ]
     },
     "metadata": {},
     "output_type": "display_data"
    }
   ],
   "source": [
    "# read the df\n",
    "df = pd.read_csv(\"License_Data.csv\")\n",
    "\n",
    "# print the shape of the dataframe\n",
    "print(df.shape)\n",
    "\n",
    "# show the top few rows\n",
    "display(df.head().T)"
   ]
  },
  {
   "cell_type": "code",
   "execution_count": 21,
   "metadata": {},
   "outputs": [],
   "source": [
    "# change the columns name\n",
    "new_col_name = [col.replace(\" \",\"_\").lower() for col in df.columns]\n",
    "df.columns = new_col_name"
   ]
  },
  {
   "cell_type": "markdown",
   "metadata": {},
   "source": [
    "## Variable Description\n",
    "\n",
    "<b>Dependent Variable</b>   <br>\n",
    "&nbsp;&nbsp;&nbsp;&nbsp;    1. AAI - License status is issued <br>\n",
    "&nbsp;&nbsp;&nbsp;&nbsp;    2. AAC - License status is cancelled <br>\n",
    "&nbsp;&nbsp;&nbsp;&nbsp;    3. REV - License status is revoked <br>\n",
    "&nbsp;&nbsp;&nbsp;&nbsp;    4. REA - License status is revoked and appealed <br>\n",
    "&nbsp;&nbsp;&nbsp;&nbsp;    5. INQ - License status is in enquiry <br>\n",
    "    <br>\n",
    "<b>Independent Variable</b> : <br>\n",
    "&nbsp;&nbsp;&nbsp;&nbsp;    Timeline of the application status <br>\n",
    "&nbsp;&nbsp;&nbsp;&nbsp;    Type of business <br>\n",
    "&nbsp;&nbsp;&nbsp;&nbsp;    Location details of the business <br>\n",
    "&nbsp;&nbsp;&nbsp;&nbsp;    Payment details <br>\n",
    "_______________________________________________________________________________________________________________________________"
   ]
  },
  {
   "cell_type": "code",
   "execution_count": 22,
   "metadata": {},
   "outputs": [
    {
     "data": {
      "text/plain": [
       "Index(['id', 'license_id', 'account_number', 'site_number', 'legal_name',\n",
       "       'doing_business_as_name', 'address', 'city', 'state', 'zip_code',\n",
       "       'ward', 'precinct', 'ward_precinct', 'police_district', 'license_code',\n",
       "       'license_description', 'license_number', 'application_type',\n",
       "       'application_created_date', 'application_requirements_complete',\n",
       "       'payment_date', 'conditional_approval', 'license_term_start_date',\n",
       "       'license_term_expiration_date', 'license_approved_for_issuance',\n",
       "       'date_issued', 'license_status_change_date', 'ssa', 'latitude',\n",
       "       'longitude', 'location', 'license_status'],\n",
       "      dtype='object')"
      ]
     },
     "execution_count": 22,
     "metadata": {},
     "output_type": "execute_result"
    }
   ],
   "source": [
    "df.columns"
   ]
  },
  {
   "cell_type": "markdown",
   "metadata": {},
   "source": [
    "## Data Cleansing\n",
    "\n",
    "1. Missing Values - lot of missing data for particular variables\n",
    "2. Unique Data - id (no meaning)\n",
    "3. Data leakage - The AAI alone doesn't have licesnse status change value (as the license are never revoked/cancelled) \n"
   ]
  },
  {
   "cell_type": "code",
   "execution_count": 23,
   "metadata": {},
   "outputs": [
    {
     "data": {
      "text/plain": [
       "id                                       0\n",
       "license_id                               0\n",
       "account_number                           0\n",
       "site_number                              0\n",
       "legal_name                               0\n",
       "doing_business_as_name                   1\n",
       "address                                  0\n",
       "city                                     0\n",
       "state                                    0\n",
       "zip_code                                31\n",
       "ward                                 49701\n",
       "precinct                             56701\n",
       "ward_precinct                        49700\n",
       "police_district                      54012\n",
       "license_code                             0\n",
       "license_description                      0\n",
       "license_number                           1\n",
       "application_type                         0\n",
       "application_created_date             64660\n",
       "application_requirements_complete      214\n",
       "payment_date                          1289\n",
       "conditional_approval                     0\n",
       "license_term_start_date                228\n",
       "license_term_expiration_date            18\n",
       "license_approved_for_issuance         6789\n",
       "date_issued                              0\n",
       "license_status_change_date           55400\n",
       "ssa                                  76446\n",
       "latitude                             47246\n",
       "longitude                            47246\n",
       "location                             47246\n",
       "license_status                           0\n",
       "dtype: int64"
      ]
     },
     "execution_count": 23,
     "metadata": {},
     "output_type": "execute_result"
    }
   ],
   "source": [
    "df.isnull().sum()"
   ]
  },
  {
   "cell_type": "code",
   "execution_count": 24,
   "metadata": {},
   "outputs": [],
   "source": [
    "# Drop columns which are not relevent for the prediction / too many missing values\n",
    "drop_col_list = [\"id\",\"license_id\",\"ssa\",\"location\",\"application_created_date\",\"account_number\",\"address\"]\n",
    "df = df.drop(drop_col_list, axis=1)"
   ]
  },
  {
   "cell_type": "code",
   "execution_count": 25,
   "metadata": {},
   "outputs": [],
   "source": [
    "df[\"license_status_change\"] = np.where(df.license_status_change_date.isnull(),1,0)"
   ]
  },
  {
   "cell_type": "code",
   "execution_count": 26,
   "metadata": {},
   "outputs": [
    {
     "data": {
      "text/html": [
       "<div>\n",
       "<style scoped>\n",
       "    .dataframe tbody tr th:only-of-type {\n",
       "        vertical-align: middle;\n",
       "    }\n",
       "\n",
       "    .dataframe tbody tr th {\n",
       "        vertical-align: top;\n",
       "    }\n",
       "\n",
       "    .dataframe thead th {\n",
       "        text-align: right;\n",
       "    }\n",
       "</style>\n",
       "<table border=\"1\" class=\"dataframe\">\n",
       "  <thead>\n",
       "    <tr style=\"text-align: right;\">\n",
       "      <th>license_status</th>\n",
       "      <th>AAC</th>\n",
       "      <th>AAI</th>\n",
       "      <th>INQ</th>\n",
       "      <th>REA</th>\n",
       "      <th>REV</th>\n",
       "    </tr>\n",
       "    <tr>\n",
       "      <th>license_status_change</th>\n",
       "      <th></th>\n",
       "      <th></th>\n",
       "      <th></th>\n",
       "      <th></th>\n",
       "      <th></th>\n",
       "    </tr>\n",
       "  </thead>\n",
       "  <tbody>\n",
       "    <tr>\n",
       "      <th>0</th>\n",
       "      <td>30200</td>\n",
       "      <td>0</td>\n",
       "      <td>2</td>\n",
       "      <td>3</td>\n",
       "      <td>290</td>\n",
       "    </tr>\n",
       "    <tr>\n",
       "      <th>1</th>\n",
       "      <td>0</td>\n",
       "      <td>55400</td>\n",
       "      <td>0</td>\n",
       "      <td>0</td>\n",
       "      <td>0</td>\n",
       "    </tr>\n",
       "  </tbody>\n",
       "</table>\n",
       "</div>"
      ],
      "text/plain": [
       "license_status           AAC    AAI  INQ  REA  REV\n",
       "license_status_change                             \n",
       "0                      30200      0    2    3  290\n",
       "1                          0  55400    0    0    0"
      ]
     },
     "execution_count": 26,
     "metadata": {},
     "output_type": "execute_result"
    }
   ],
   "source": [
    "pd.crosstab(df.license_status_change,df.license_status)"
   ]
  },
  {
   "cell_type": "markdown",
   "metadata": {},
   "source": [
    "## Data Transformation\n",
    "1. Timeline creation\n",
    "2. Encoding\n",
    "3. New Feature"
   ]
  },
  {
   "cell_type": "code",
   "execution_count": 27,
   "metadata": {},
   "outputs": [],
   "source": [
    "# convert string object into date\n",
    "df.application_requirements_complete = pd.DatetimeIndex(df.application_requirements_complete)\n",
    "df.payment_date = pd.DatetimeIndex(df.payment_date)\n",
    "df.license_term_start_date = pd.DatetimeIndex(df.license_term_start_date)\n",
    "df.license_term_expiration_date = pd.DatetimeIndex(df.license_term_expiration_date)\n",
    "df.license_approved_for_issuance = pd.DatetimeIndex(df.license_approved_for_issuance)\n",
    "df.date_issued = pd.DatetimeIndex(df.date_issued)"
   ]
  },
  {
   "cell_type": "code",
   "execution_count": 28,
   "metadata": {},
   "outputs": [],
   "source": [
    "# Find no.of days btw different application status date\n",
    "df[\"completion_to_start\"] = (df.license_term_start_date - df.application_requirements_complete).dt.days\n",
    "df[\"start_to_expiry\"] =  (df.license_term_expiration_date - df.license_term_start_date).dt.days\n",
    "df[\"approval_to_issuance\"] = (df.date_issued - df.license_approved_for_issuance).dt.days\n",
    "df[\"completion_to_payment\"] = (df.payment_date - df.application_requirements_complete).dt.days\n",
    "\n",
    "df[\"presence_of_enquiry_details\"] = np.where(df.ward.isnull() | df.ward_precinct.isnull() | df.police_district | df.precinct , 0 ,1 )\n",
    "\n",
    "df[\"target\"] = df[['license_status']].apply(lambda col:pd.Categorical(col).codes)"
   ]
  },
  {
   "cell_type": "code",
   "execution_count": 30,
   "metadata": {},
   "outputs": [
    {
     "data": {
      "text/plain": [
       "array(['CHICAGO', 'HIGHLAND', 'LEMONT', ..., 'ABERDEEN', 'PENSACOLA',\n",
       "       'MACHESNEY PARK'], dtype=object)"
      ]
     },
     "execution_count": 30,
     "metadata": {},
     "output_type": "execute_result"
    }
   ],
   "source": [
    "df.city.unique()"
   ]
  },
  {
   "cell_type": "code",
   "execution_count": 31,
   "metadata": {},
   "outputs": [
    {
     "name": "stdout",
     "output_type": "stream",
     "text": [
      "Index(['target_1', 'target_2', 'target_3', 'target_4', 'target_5'], dtype='object')\n"
     ]
    }
   ],
   "source": [
    "enc=ce.OneHotEncoder().fit(df.target.astype(str))\n",
    "y_onehot=enc.transform(df.target.astype(str))\n",
    "print(y_onehot.columns)"
   ]
  },
  {
   "cell_type": "markdown",
   "metadata": {},
   "source": [
    "## Target Encoding"
   ]
  },
  {
   "cell_type": "code",
   "execution_count": 32,
   "metadata": {},
   "outputs": [],
   "source": [
    "enc=ce.OneHotEncoder().fit(df.target.astype(str))\n",
    "y_onehot=enc.transform(df.target.astype(str))\n",
    "\n",
    "class_names=y_onehot.columns\n",
    "for class_ in class_names:\n",
    "  enc=ce.TargetEncoder(smoothing=0)\n",
    "  temp = enc.fit_transform(df[[\"license_description\",\"state\",\"city\"]],y_onehot[class_])\n",
    "  temp.columns=[str(x)+'_'+str(class_) for x in temp.columns]\n",
    "  df = pd.concat([df,temp],axis=1)"
   ]
  },
  {
   "cell_type": "markdown",
   "metadata": {},
   "source": [
    "### Class Imbalance "
   ]
  },
  {
   "cell_type": "code",
   "execution_count": null,
   "metadata": {},
   "outputs": [
    {
     "data": {
      "text/plain": [
       "AAI    55400\n",
       "AAC    30200\n",
       "REV      290\n",
       "REA        3\n",
       "INQ        2\n",
       "Name: license_status, dtype: int64"
      ]
     },
     "execution_count": 15,
     "metadata": {},
     "output_type": "execute_result"
    }
   ],
   "source": [
    "df.license_status.value_counts()"
   ]
  },
  {
   "cell_type": "code",
   "execution_count": 33,
   "metadata": {},
   "outputs": [
    {
     "data": {
      "text/plain": [
       "AAI    64.497%\n",
       "AAC    35.159%\n",
       "REV     0.338%\n",
       "REA     0.003%\n",
       "INQ     0.002%\n",
       "Name: license_status, dtype: object"
      ]
     },
     "execution_count": 33,
     "metadata": {},
     "output_type": "execute_result"
    }
   ],
   "source": [
    "df.license_status.value_counts(normalize=True).mul(100).round(3).astype(str) + '%'"
   ]
  },
  {
   "cell_type": "markdown",
   "metadata": {},
   "source": [
    "## over sampling/under sampling"
   ]
  },
  {
   "cell_type": "code",
   "execution_count": 34,
   "metadata": {},
   "outputs": [
    {
     "data": {
      "text/plain": [
       "[0, 1, 2, 3, 4]"
      ]
     },
     "execution_count": 34,
     "metadata": {},
     "output_type": "execute_result"
    }
   ],
   "source": [
    "np.sort(df.target.unique()).tolist()"
   ]
  },
  {
   "cell_type": "code",
   "execution_count": 35,
   "metadata": {},
   "outputs": [
    {
     "data": {
      "text/plain": [
       "1    16620\n",
       "0     9060\n",
       "4      580\n",
       "2      400\n",
       "3      300\n",
       "Name: target, dtype: int64"
      ]
     },
     "execution_count": 35,
     "metadata": {},
     "output_type": "execute_result"
    }
   ],
   "source": [
    "# Undersampling\n",
    "df_0 = df[df.target==0].sample(frac=0.3,replace=False)\n",
    "df_1 = df[df.target==1].sample(frac=0.3,replace=False)\n",
    "# oversamplig\n",
    "df_2 = df[df.target==2].sample(frac=200,replace=True)\n",
    "df_3 = df[df.target==3].sample(frac=100,replace=True)\n",
    "df_4 = df[df.target==4].sample(frac=2,replace=True)\n",
    "\n",
    "sampled_df = pd.concat([df_0,df_1,df_2,df_3,df_4])\n",
    "\n",
    "sampled_df.target.value_counts()"
   ]
  },
  {
   "cell_type": "markdown",
   "metadata": {},
   "source": [
    "## Train / Test Data Preparation"
   ]
  },
  {
   "cell_type": "code",
   "execution_count": 36,
   "metadata": {},
   "outputs": [],
   "source": [
    "X = sampled_df[['latitude', 'longitude',\n",
    "       'completion_to_start',\n",
    "       'start_to_expiry', 'approval_to_issuance', 'completion_to_payment',\n",
    "       'presence_of_enquiry_details',  'license_description_target_1',\n",
    "       'state_target_1', 'city_target_1', 'license_description_target_2',\n",
    "       'state_target_2', 'city_target_2', 'license_description_target_3',\n",
    "       'state_target_3', 'city_target_3', 'license_description_target_4',\n",
    "       'state_target_4', 'city_target_4', 'license_description_target_5',\n",
    "       'state_target_5', 'city_target_5']]\n",
    "\n",
    "y = sampled_df['target']"
   ]
  },
  {
   "cell_type": "code",
   "execution_count": 37,
   "metadata": {},
   "outputs": [],
   "source": [
    "# mean imputation\n",
    "X = X.fillna(X.mean())"
   ]
  },
  {
   "cell_type": "code",
   "execution_count": 38,
   "metadata": {},
   "outputs": [],
   "source": [
    "# Train/test preparation\n",
    "from sklearn.model_selection import train_test_split\n",
    "from sklearn.ensemble import RandomForestClassifier\n",
    "from sklearn.metrics import f1_score\n",
    "\n",
    "X_train, X_test, y_train, y_test = train_test_split(X,y, test_size=0.1)"
   ]
  },
  {
   "cell_type": "markdown",
   "metadata": {},
   "source": [
    "## Modeling"
   ]
  },
  {
   "cell_type": "code",
   "execution_count": 39,
   "metadata": {},
   "outputs": [],
   "source": [
    "# KNN\n",
    "from sklearn.neighbors import KNeighborsClassifier\n",
    "knn_model = KNeighborsClassifier(n_neighbors=3)"
   ]
  },
  {
   "cell_type": "code",
   "execution_count": 40,
   "metadata": {},
   "outputs": [
    {
     "name": "stderr",
     "output_type": "stream",
     "text": [
      "/usr/local/lib/python3.8/site-packages/sklearn/neighbors/_classification.py:228: FutureWarning: Unlike other reduction functions (e.g. `skew`, `kurtosis`), the default behavior of `mode` typically preserves the axis it acts along. In SciPy 1.11.0, this behavior will change: the default value of `keepdims` will become False, the `axis` over which the statistic is taken will be eliminated, and the value None will no longer be accepted. Set `keepdims` to True or False to avoid this warning.\n",
      "  mode, _ = stats.mode(_y[neigh_ind, k], axis=1)\n"
     ]
    }
   ],
   "source": [
    "# Scaling\n",
    "from sklearn.preprocessing import MinMaxScaler\n",
    "scaler = MinMaxScaler()\n",
    "scaler.fit(X_train)\n",
    "knn_model.fit((scaler.transform(X_train)),y_train)\n",
    "scaler.fit(X_test)\n",
    "y_pred = knn_model.predict(scaler.transform(X_test))"
   ]
  },
  {
   "cell_type": "code",
   "execution_count": 42,
   "metadata": {},
   "outputs": [
    {
     "name": "stdout",
     "output_type": "stream",
     "text": [
      "              precision    recall  f1-score   support\n",
      "\n",
      "           0       0.71      0.85      0.77       939\n",
      "           1       0.90      0.82      0.86      1629\n",
      "           2       0.00      0.00      0.00        37\n",
      "           3       0.96      0.66      0.78        38\n",
      "           4       0.53      0.60      0.57        53\n",
      "\n",
      "    accuracy                           0.81      2696\n",
      "   macro avg       0.62      0.59      0.60      2696\n",
      "weighted avg       0.81      0.81      0.81      2696\n",
      "\n"
     ]
    },
    {
     "name": "stderr",
     "output_type": "stream",
     "text": [
      "/usr/local/lib/python3.8/site-packages/sklearn/metrics/_classification.py:1318: UndefinedMetricWarning: Precision and F-score are ill-defined and being set to 0.0 in labels with no predicted samples. Use `zero_division` parameter to control this behavior.\n",
      "  _warn_prf(average, modifier, msg_start, len(result))\n",
      "/usr/local/lib/python3.8/site-packages/sklearn/metrics/_classification.py:1318: UndefinedMetricWarning: Precision and F-score are ill-defined and being set to 0.0 in labels with no predicted samples. Use `zero_division` parameter to control this behavior.\n",
      "  _warn_prf(average, modifier, msg_start, len(result))\n",
      "/usr/local/lib/python3.8/site-packages/sklearn/metrics/_classification.py:1318: UndefinedMetricWarning: Precision and F-score are ill-defined and being set to 0.0 in labels with no predicted samples. Use `zero_division` parameter to control this behavior.\n",
      "  _warn_prf(average, modifier, msg_start, len(result))\n"
     ]
    }
   ],
   "source": [
    "# Metrics Performance\n",
    "from sklearn.metrics import classification_report\n",
    "from sklearn.metrics import classification_report,confusion_matrix\n",
    "print(classification_report(y_test,y_pred))"
   ]
  },
  {
   "cell_type": "code",
   "execution_count": 43,
   "metadata": {},
   "outputs": [
    {
     "name": "stderr",
     "output_type": "stream",
     "text": [
      "/usr/local/lib/python3.8/site-packages/sklearn/linear_model/_logistic.py:814: ConvergenceWarning: lbfgs failed to converge (status=1):\n",
      "STOP: TOTAL NO. of ITERATIONS REACHED LIMIT.\n",
      "\n",
      "Increase the number of iterations (max_iter) or scale the data as shown in:\n",
      "    https://scikit-learn.org/stable/modules/preprocessing.html\n",
      "Please also refer to the documentation for alternative solver options:\n",
      "    https://scikit-learn.org/stable/modules/linear_model.html#logistic-regression\n",
      "  n_iter_i = _check_optimize_result(\n"
     ]
    }
   ],
   "source": [
    "# Logistic regression\n",
    "from sklearn.linear_model import LogisticRegression\n",
    "log_model = LogisticRegression()\n",
    "log_model.fit(X_train, y_train)\n",
    "y_pred = log_model.predict(X_test)"
   ]
  },
  {
   "cell_type": "code",
   "execution_count": 44,
   "metadata": {},
   "outputs": [
    {
     "name": "stdout",
     "output_type": "stream",
     "text": [
      "              precision    recall  f1-score   support\n",
      "\n",
      "           0       0.69      0.19      0.30       939\n",
      "           1       0.66      0.98      0.79      1629\n",
      "           2       0.00      0.00      0.00        37\n",
      "           3       0.00      0.00      0.00        38\n",
      "           4       0.00      0.00      0.00        53\n",
      "\n",
      "    accuracy                           0.66      2696\n",
      "   macro avg       0.27      0.23      0.22      2696\n",
      "weighted avg       0.64      0.66      0.58      2696\n",
      "\n"
     ]
    },
    {
     "name": "stderr",
     "output_type": "stream",
     "text": [
      "/usr/local/lib/python3.8/site-packages/sklearn/metrics/_classification.py:1318: UndefinedMetricWarning: Precision and F-score are ill-defined and being set to 0.0 in labels with no predicted samples. Use `zero_division` parameter to control this behavior.\n",
      "  _warn_prf(average, modifier, msg_start, len(result))\n",
      "/usr/local/lib/python3.8/site-packages/sklearn/metrics/_classification.py:1318: UndefinedMetricWarning: Precision and F-score are ill-defined and being set to 0.0 in labels with no predicted samples. Use `zero_division` parameter to control this behavior.\n",
      "  _warn_prf(average, modifier, msg_start, len(result))\n",
      "/usr/local/lib/python3.8/site-packages/sklearn/metrics/_classification.py:1318: UndefinedMetricWarning: Precision and F-score are ill-defined and being set to 0.0 in labels with no predicted samples. Use `zero_division` parameter to control this behavior.\n",
      "  _warn_prf(average, modifier, msg_start, len(result))\n"
     ]
    }
   ],
   "source": [
    "# Metrics Performance\n",
    "print(classification_report(y_test,y_pred))"
   ]
  },
  {
   "cell_type": "code",
   "execution_count": 45,
   "metadata": {},
   "outputs": [
    {
     "name": "stdout",
     "output_type": "stream",
     "text": [
      "[[ 180  755    3    0    1]\n",
      " [  33 1595    1    0    0]\n",
      " [   0   37    0    0    0]\n",
      " [  28   10    0    0    0]\n",
      " [  21   32    0    0    0]]\n"
     ]
    }
   ],
   "source": [
    "# Metrics Performance\n",
    "print(confusion_matrix(y_test,y_pred))"
   ]
  },
  {
   "cell_type": "code",
   "execution_count": 46,
   "metadata": {},
   "outputs": [],
   "source": [
    "# Naive Bias\n",
    "from sklearn.naive_bayes import GaussianNB\n",
    "nb_model = GaussianNB()\n",
    "y_pred = nb_model.fit(X_train, y_train).predict(X_test)"
   ]
  },
  {
   "cell_type": "code",
   "execution_count": 47,
   "metadata": {},
   "outputs": [
    {
     "name": "stdout",
     "output_type": "stream",
     "text": [
      "              precision    recall  f1-score   support\n",
      "\n",
      "           0       0.63      0.37      0.47       939\n",
      "           1       0.90      0.84      0.87      1629\n",
      "           2       1.00      1.00      1.00        37\n",
      "           3       0.32      1.00      0.49        38\n",
      "           4       0.08      0.72      0.15        53\n",
      "\n",
      "    accuracy                           0.68      2696\n",
      "   macro avg       0.59      0.79      0.59      2696\n",
      "weighted avg       0.78      0.68      0.71      2696\n",
      "\n"
     ]
    }
   ],
   "source": [
    "# Metrics Performance\n",
    "print(classification_report(y_test,y_pred))"
   ]
  },
  {
   "cell_type": "code",
   "execution_count": 48,
   "metadata": {},
   "outputs": [
    {
     "name": "stdout",
     "output_type": "stream",
     "text": [
      "[[ 348  157    0   71  363]\n",
      " [ 196 1376    0    5   52]\n",
      " [   0    0   37    0    0]\n",
      " [   0    0    0   38    0]\n",
      " [   9    2    0    4   38]]\n"
     ]
    }
   ],
   "source": [
    "print(confusion_matrix(y_test,y_pred))"
   ]
  },
  {
   "cell_type": "code",
   "execution_count": 49,
   "metadata": {},
   "outputs": [],
   "source": [
    "# Decision Tree\n",
    "from sklearn.tree import DecisionTreeClassifier\n",
    "dt_model = DecisionTreeClassifier(random_state=0)\n",
    "y_pred = dt_model.fit(X_train, y_train).predict(X_test)"
   ]
  },
  {
   "cell_type": "code",
   "execution_count": 50,
   "metadata": {},
   "outputs": [
    {
     "data": {
      "text/plain": [
       "DecisionTreeClassifier()"
      ]
     },
     "execution_count": 50,
     "metadata": {},
     "output_type": "execute_result"
    }
   ],
   "source": [
    "# Decision Tree\n",
    "from sklearn.tree import DecisionTreeClassifier\n",
    "DecisionTreeClassifier()"
   ]
  },
  {
   "cell_type": "code",
   "execution_count": 51,
   "metadata": {},
   "outputs": [
    {
     "name": "stdout",
     "output_type": "stream",
     "text": [
      "              precision    recall  f1-score   support\n",
      "\n",
      "           0       0.77      0.77      0.77       939\n",
      "           1       0.88      0.87      0.87      1629\n",
      "           2       1.00      1.00      1.00        37\n",
      "           3       1.00      1.00      1.00        38\n",
      "           4       0.71      0.89      0.79        53\n",
      "\n",
      "    accuracy                           0.84      2696\n",
      "   macro avg       0.87      0.91      0.89      2696\n",
      "weighted avg       0.84      0.84      0.84      2696\n",
      "\n"
     ]
    }
   ],
   "source": [
    "# Metrics Performance\n",
    "print(classification_report(y_test,y_pred))"
   ]
  },
  {
   "cell_type": "code",
   "execution_count": 52,
   "metadata": {},
   "outputs": [
    {
     "name": "stdout",
     "output_type": "stream",
     "text": [
      "[[ 726  195    0    0   18]\n",
      " [ 210 1418    0    0    1]\n",
      " [   0    0   37    0    0]\n",
      " [   0    0    0   38    0]\n",
      " [   3    3    0    0   47]]\n"
     ]
    }
   ],
   "source": [
    "print(confusion_matrix(y_test,y_pred))"
   ]
  },
  {
   "cell_type": "code",
   "execution_count": 53,
   "metadata": {},
   "outputs": [],
   "source": [
    "# Finding the variable with more importance\n",
    "feature_importance = pd.DataFrame([X_train.columns, dt_model.feature_importances_])\n",
    "feature_importance = feature_importance.T.sort_values(by = 1, ascending=False)[1:10]"
   ]
  },
  {
   "cell_type": "code",
   "execution_count": 54,
   "metadata": {},
   "outputs": [
    {
     "name": "stderr",
     "output_type": "stream",
     "text": [
      "No handles with labels found to put in legend.\n"
     ]
    },
    {
     "data": {
      "image/png": "[encoded data removed]",
      "text/plain": [
       "<Figure size 640x480 with 1 Axes>"
      ]
     },
     "metadata": {},
     "output_type": "display_data"
    }
   ],
   "source": [
    "import seaborn as sns\n",
    "sns.barplot(x=feature_importance[1], y=feature_importance[0])\n",
    "# Add labels to the graph\n",
    "plt.xlabel('Feature Importance Score')\n",
    "plt.ylabel('Features')\n",
    "plt.title(\"Visualizing Important Features\")\n",
    "plt.legend()\n",
    "plt.show()"
   ]
  },
  {
   "cell_type": "code",
   "execution_count": 55,
   "metadata": {},
   "outputs": [
    {
     "ename": "SyntaxError",
     "evalue": "invalid syntax (4084439538.py, line 2)",
     "output_type": "error",
     "traceback": [
      "\u001b[0;36m  Cell \u001b[0;32mIn[55], line 2\u001b[0;36m\u001b[0m\n\u001b[0;31m    1. No. of trees\u001b[0m\n\u001b[0m       ^\u001b[0m\n\u001b[0;31mSyntaxError\u001b[0m\u001b[0;31m:\u001b[0m invalid syntax\n"
     ]
    }
   ],
   "source": [
    "# Hyperparameter Tuning - Tree parameters\n",
    "1. No. of trees\n",
    "2. Depth of the trees\n",
    "3. Min no. of samples in the leaf node\n",
    "4. Max number of features\n",
    "5. Split Criterion "
   ]
  }
 ],
 "metadata": {
  "kernelspec": {
   "display_name": "Python 3",
   "language": "python",
   "name": "python3"
  },
  "language_info": {
   "codemirror_mode": {
    "name": "ipython",
    "version": 3
   },
   "file_extension": ".py",
   "mimetype": "text/x-python",
   "name": "python",
   "nbconvert_exporter": "python",
   "pygments_lexer": "ipython3",
   "version": "3.8.20"
  }
 },
 "nbformat": 4,
 "nbformat_minor": 4
}
