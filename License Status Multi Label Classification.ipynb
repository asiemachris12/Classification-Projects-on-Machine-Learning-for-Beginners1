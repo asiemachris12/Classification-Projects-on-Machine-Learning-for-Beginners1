{
 "cells": [
  {
   "cell_type": "markdown",
   "metadata": {},
   "source": [
    "# License Status Prediction - Multiclass Classification\n",
    "<hr style=\"border:1px solid gray\"> </hr>"
   ]
  },
  {
   "cell_type": "markdown",
   "metadata": {},
   "source": [
    "## Contents.\n",
    "\n",
    "    1. Problem Description\n",
    "    2. Data Exploration\n",
    "    3. Feature Selection\n",
    "    4. KNN Algorithm\n",
    "    5. Naive Bias\n",
    "    5. Logistic Regression\n",
    "    6. Decisoin Tree\n",
    "    \n",
    "--------------------------------------------------------------------------------------------------------------------------------\n"
   ]
  },
  {
   "cell_type": "markdown",
   "metadata": {},
   "source": [
    "### Problem Description\n",
    "\n",
    "We are given a license dataset which holds various information related the business license , The objective of out problem is to predict license Status for the given business. Lets start with delving deep into the data.\n",
    "________________________________________________________________________________________________________________________________"
   ]
  },
  {
   "cell_type": "code",
   "execution_count": 1,
   "metadata": {},
   "outputs": [
    {
     "name": "stdout",
     "output_type": "stream",
     "text": [
      "Requirement already satisfied: category_encoders in c:\\users\\casie\\data science coding folder\\.venv\\lib\\site-packages (2.7.0)\n",
      "Requirement already satisfied: numpy>=1.14.0 in c:\\users\\casie\\data science coding folder\\.venv\\lib\\site-packages (from category_encoders) (2.2.1)\n",
      "Requirement already satisfied: pandas>=1.0.5 in c:\\users\\casie\\data science coding folder\\.venv\\lib\\site-packages (from category_encoders) (2.2.3)\n",
      "Requirement already satisfied: patsy>=0.5.1 in c:\\users\\casie\\data science coding folder\\.venv\\lib\\site-packages (from category_encoders) (1.0.1)\n",
      "Requirement already satisfied: scikit-learn<1.6.0,>=1.0.0 in c:\\users\\casie\\data science coding folder\\.venv\\lib\\site-packages (from category_encoders) (1.5.2)\n",
      "Requirement already satisfied: scipy>=1.0.0 in c:\\users\\casie\\data science coding folder\\.venv\\lib\\site-packages (from category_encoders) (1.15.0)\n",
      "Requirement already satisfied: statsmodels>=0.9.0 in c:\\users\\casie\\data science coding folder\\.venv\\lib\\site-packages (from category_encoders) (0.14.4)\n",
      "Requirement already satisfied: python-dateutil>=2.8.2 in c:\\users\\casie\\data science coding folder\\.venv\\lib\\site-packages (from pandas>=1.0.5->category_encoders) (2.9.0.post0)\n",
      "Requirement already satisfied: pytz>=2020.1 in c:\\users\\casie\\data science coding folder\\.venv\\lib\\site-packages (from pandas>=1.0.5->category_encoders) (2024.2)\n",
      "Requirement already satisfied: tzdata>=2022.7 in c:\\users\\casie\\data science coding folder\\.venv\\lib\\site-packages (from pandas>=1.0.5->category_encoders) (2024.2)\n",
      "Requirement already satisfied: joblib>=1.2.0 in c:\\users\\casie\\data science coding folder\\.venv\\lib\\site-packages (from scikit-learn<1.6.0,>=1.0.0->category_encoders) (1.4.2)\n",
      "Requirement already satisfied: threadpoolctl>=3.1.0 in c:\\users\\casie\\data science coding folder\\.venv\\lib\\site-packages (from scikit-learn<1.6.0,>=1.0.0->category_encoders) (3.5.0)\n",
      "Requirement already satisfied: packaging>=21.3 in c:\\users\\casie\\data science coding folder\\.venv\\lib\\site-packages (from statsmodels>=0.9.0->category_encoders) (24.2)\n",
      "Requirement already satisfied: six>=1.5 in c:\\users\\casie\\data science coding folder\\.venv\\lib\\site-packages (from python-dateutil>=2.8.2->pandas>=1.0.5->category_encoders) (1.17.0)\n",
      "Note: you may need to restart the kernel to use updated packages.\n"
     ]
    }
   ],
   "source": [
    "%pip install category_encoders"
   ]
  },
  {
   "cell_type": "code",
   "execution_count": 2,
   "metadata": {},
   "outputs": [],
   "source": [
    "import pandas as pd\n",
    "import numpy as np\n",
    "import matplotlib.pyplot as plt\n",
    "%matplotlib inline\n",
    "import os\n",
    "import category_encoders as ce"
   ]
  },
  {
   "cell_type": "code",
   "execution_count": 3,
   "metadata": {},
   "outputs": [
    {
     "name": "stdout",
     "output_type": "stream",
     "text": [
      "(85895, 32)\n"
     ]
    },
    {
     "name": "stderr",
     "output_type": "stream",
     "text": [
      "C:\\Users\\casie\\AppData\\Local\\Temp\\ipykernel_72324\\3980253677.py:2: DtypeWarning: Columns (9) have mixed types. Specify dtype option on import or set low_memory=False.\n",
      "  df = pd.read_csv(\"License_data.csv\")\n"
     ]
    },
    {
     "data": {
      "text/html": [
       "<div>\n",
       "<style scoped>\n",
       "    .dataframe tbody tr th:only-of-type {\n",
       "        vertical-align: middle;\n",
       "    }\n",
       "\n",
       "    .dataframe tbody tr th {\n",
       "        vertical-align: top;\n",
       "    }\n",
       "\n",
       "    .dataframe thead th {\n",
       "        text-align: right;\n",
       "    }\n",
       "</style>\n",
       "<table border=\"1\" class=\"dataframe\">\n",
       "  <thead>\n",
       "    <tr style=\"text-align: right;\">\n",
       "      <th></th>\n",
       "      <th>0</th>\n",
       "      <th>1</th>\n",
       "      <th>2</th>\n",
       "      <th>3</th>\n",
       "      <th>4</th>\n",
       "    </tr>\n",
       "  </thead>\n",
       "  <tbody>\n",
       "    <tr>\n",
       "      <th>ID</th>\n",
       "      <td>35342-20020816</td>\n",
       "      <td>1358463-20051116</td>\n",
       "      <td>1980233-20090722</td>\n",
       "      <td>1476582-20040211</td>\n",
       "      <td>1141408-20080516</td>\n",
       "    </tr>\n",
       "    <tr>\n",
       "      <th>LICENSE ID</th>\n",
       "      <td>1256593</td>\n",
       "      <td>1639294</td>\n",
       "      <td>1980233</td>\n",
       "      <td>1476582</td>\n",
       "      <td>1896750</td>\n",
       "    </tr>\n",
       "    <tr>\n",
       "      <th>ACCOUNT NUMBER</th>\n",
       "      <td>32811</td>\n",
       "      <td>262311</td>\n",
       "      <td>345008</td>\n",
       "      <td>273121</td>\n",
       "      <td>213785</td>\n",
       "    </tr>\n",
       "    <tr>\n",
       "      <th>SITE NUMBER</th>\n",
       "      <td>1</td>\n",
       "      <td>29</td>\n",
       "      <td>1</td>\n",
       "      <td>1</td>\n",
       "      <td>1</td>\n",
       "    </tr>\n",
       "    <tr>\n",
       "      <th>LEGAL NAME</th>\n",
       "      <td>CARMEN CAHUE</td>\n",
       "      <td>ISLA TROPICAL, INC.</td>\n",
       "      <td>DJS REMODELING</td>\n",
       "      <td>ALL-BRY CONSTRUCTION CO.</td>\n",
       "      <td>MCDONOUGH MECHANICAL SERVICE</td>\n",
       "    </tr>\n",
       "    <tr>\n",
       "      <th>DOING BUSINESS AS NAME</th>\n",
       "      <td>CLAUDIA'S BRIDAL SHOP</td>\n",
       "      <td>ISLA TROPICAL</td>\n",
       "      <td>DJS REMODELING, INC.</td>\n",
       "      <td>ALL-BRY CONSTRUCTION CO.</td>\n",
       "      <td>MCDONOUGH MECHANICAL SERVICE</td>\n",
       "    </tr>\n",
       "    <tr>\n",
       "      <th>ADDRESS</th>\n",
       "      <td>2625 S CENTRAL PARK AVE  1</td>\n",
       "      <td>2825 W MONTROSE AVE</td>\n",
       "      <td>1605  CLAVEY RD 1</td>\n",
       "      <td>8  NORTH TRAIL</td>\n",
       "      <td>4081  JOSEPH DR</td>\n",
       "    </tr>\n",
       "    <tr>\n",
       "      <th>CITY</th>\n",
       "      <td>CHICAGO</td>\n",
       "      <td>CHICAGO</td>\n",
       "      <td>HIGHLAND</td>\n",
       "      <td>LEMONT</td>\n",
       "      <td>WAUKEGAN</td>\n",
       "    </tr>\n",
       "    <tr>\n",
       "      <th>STATE</th>\n",
       "      <td>IL</td>\n",
       "      <td>IL</td>\n",
       "      <td>IL</td>\n",
       "      <td>IL</td>\n",
       "      <td>IL</td>\n",
       "    </tr>\n",
       "    <tr>\n",
       "      <th>ZIP CODE</th>\n",
       "      <td>60623.0</td>\n",
       "      <td>60618</td>\n",
       "      <td>60035</td>\n",
       "      <td>60439</td>\n",
       "      <td>60087</td>\n",
       "    </tr>\n",
       "    <tr>\n",
       "      <th>WARD</th>\n",
       "      <td>22.0</td>\n",
       "      <td>33.0</td>\n",
       "      <td>NaN</td>\n",
       "      <td>NaN</td>\n",
       "      <td>NaN</td>\n",
       "    </tr>\n",
       "    <tr>\n",
       "      <th>PRECINCT</th>\n",
       "      <td>28.0</td>\n",
       "      <td>23.0</td>\n",
       "      <td>NaN</td>\n",
       "      <td>NaN</td>\n",
       "      <td>NaN</td>\n",
       "    </tr>\n",
       "    <tr>\n",
       "      <th>WARD PRECINCT</th>\n",
       "      <td>22-28</td>\n",
       "      <td>33-23</td>\n",
       "      <td>NaN</td>\n",
       "      <td>NaN</td>\n",
       "      <td>NaN</td>\n",
       "    </tr>\n",
       "    <tr>\n",
       "      <th>POLICE DISTRICT</th>\n",
       "      <td>10.0</td>\n",
       "      <td>17.0</td>\n",
       "      <td>NaN</td>\n",
       "      <td>NaN</td>\n",
       "      <td>NaN</td>\n",
       "    </tr>\n",
       "    <tr>\n",
       "      <th>LICENSE CODE</th>\n",
       "      <td>1010</td>\n",
       "      <td>1315</td>\n",
       "      <td>1011</td>\n",
       "      <td>1010</td>\n",
       "      <td>1010</td>\n",
       "    </tr>\n",
       "    <tr>\n",
       "      <th>LICENSE DESCRIPTION</th>\n",
       "      <td>Limited Business License</td>\n",
       "      <td>Mobile Food Dispenser</td>\n",
       "      <td>Home Repair</td>\n",
       "      <td>Limited Business License</td>\n",
       "      <td>Limited Business License</td>\n",
       "    </tr>\n",
       "    <tr>\n",
       "      <th>LICENSE NUMBER</th>\n",
       "      <td>35342.0</td>\n",
       "      <td>1358463.0</td>\n",
       "      <td>1980233.0</td>\n",
       "      <td>1476582.0</td>\n",
       "      <td>1141408.0</td>\n",
       "    </tr>\n",
       "    <tr>\n",
       "      <th>APPLICATION TYPE</th>\n",
       "      <td>RENEW</td>\n",
       "      <td>RENEW</td>\n",
       "      <td>ISSUE</td>\n",
       "      <td>ISSUE</td>\n",
       "      <td>RENEW</td>\n",
       "    </tr>\n",
       "    <tr>\n",
       "      <th>APPLICATION CREATED DATE</th>\n",
       "      <td>NaN</td>\n",
       "      <td>NaN</td>\n",
       "      <td>2009-06-29T00:00:00</td>\n",
       "      <td>2004-02-10T00:00:00</td>\n",
       "      <td>NaN</td>\n",
       "    </tr>\n",
       "    <tr>\n",
       "      <th>APPLICATION REQUIREMENTS COMPLETE</th>\n",
       "      <td>2002-06-28T00:00:00</td>\n",
       "      <td>2005-09-22T00:00:00</td>\n",
       "      <td>2009-07-22T00:00:00</td>\n",
       "      <td>2004-02-10T00:00:00</td>\n",
       "      <td>2008-03-24T00:00:00</td>\n",
       "    </tr>\n",
       "    <tr>\n",
       "      <th>PAYMENT DATE</th>\n",
       "      <td>2002-08-21T00:00:00</td>\n",
       "      <td>2005-11-03T00:00:00</td>\n",
       "      <td>2009-07-22T00:00:00</td>\n",
       "      <td>2004-02-10T00:00:00</td>\n",
       "      <td>2008-06-04T00:00:00</td>\n",
       "    </tr>\n",
       "    <tr>\n",
       "      <th>CONDITIONAL APPROVAL</th>\n",
       "      <td>N</td>\n",
       "      <td>N</td>\n",
       "      <td>N</td>\n",
       "      <td>N</td>\n",
       "      <td>N</td>\n",
       "    </tr>\n",
       "    <tr>\n",
       "      <th>LICENSE TERM START DATE</th>\n",
       "      <td>2002-08-16T00:00:00</td>\n",
       "      <td>2005-11-16T00:00:00</td>\n",
       "      <td>2009-07-22T00:00:00</td>\n",
       "      <td>2004-02-11T00:00:00</td>\n",
       "      <td>2008-05-16T00:00:00</td>\n",
       "    </tr>\n",
       "    <tr>\n",
       "      <th>LICENSE TERM EXPIRATION DATE</th>\n",
       "      <td>2003-08-15T00:00:00</td>\n",
       "      <td>2006-11-15T00:00:00</td>\n",
       "      <td>2011-07-15T00:00:00</td>\n",
       "      <td>2005-02-15T00:00:00</td>\n",
       "      <td>2010-05-15T00:00:00</td>\n",
       "    </tr>\n",
       "    <tr>\n",
       "      <th>LICENSE APPROVED FOR ISSUANCE</th>\n",
       "      <td>2002-08-21T00:00:00</td>\n",
       "      <td>2006-04-05T00:00:00</td>\n",
       "      <td>2009-07-22T00:00:00</td>\n",
       "      <td>2004-02-10T00:00:00</td>\n",
       "      <td>2008-06-04T00:00:00</td>\n",
       "    </tr>\n",
       "    <tr>\n",
       "      <th>DATE ISSUED</th>\n",
       "      <td>2006-04-11T00:00:00</td>\n",
       "      <td>2006-06-12T00:00:00</td>\n",
       "      <td>2009-07-22T00:00:00</td>\n",
       "      <td>2004-02-11T00:00:00</td>\n",
       "      <td>2008-06-05T00:00:00</td>\n",
       "    </tr>\n",
       "    <tr>\n",
       "      <th>LICENSE STATUS CHANGE DATE</th>\n",
       "      <td>NaN</td>\n",
       "      <td>2006-06-15T00:00:00</td>\n",
       "      <td>NaN</td>\n",
       "      <td>NaN</td>\n",
       "      <td>NaN</td>\n",
       "    </tr>\n",
       "    <tr>\n",
       "      <th>SSA</th>\n",
       "      <td>25.0</td>\n",
       "      <td>60.0</td>\n",
       "      <td>NaN</td>\n",
       "      <td>NaN</td>\n",
       "      <td>NaN</td>\n",
       "    </tr>\n",
       "    <tr>\n",
       "      <th>LATITUDE</th>\n",
       "      <td>41.843613</td>\n",
       "      <td>41.961132</td>\n",
       "      <td>NaN</td>\n",
       "      <td>NaN</td>\n",
       "      <td>NaN</td>\n",
       "    </tr>\n",
       "    <tr>\n",
       "      <th>LONGITUDE</th>\n",
       "      <td>-87.714618</td>\n",
       "      <td>-87.699626</td>\n",
       "      <td>NaN</td>\n",
       "      <td>NaN</td>\n",
       "      <td>NaN</td>\n",
       "    </tr>\n",
       "    <tr>\n",
       "      <th>LOCATION</th>\n",
       "      <td>{'latitude': '41.843612879431845', 'longitude'...</td>\n",
       "      <td>{'latitude': '41.96113244107215', 'longitude':...</td>\n",
       "      <td>NaN</td>\n",
       "      <td>NaN</td>\n",
       "      <td>NaN</td>\n",
       "    </tr>\n",
       "    <tr>\n",
       "      <th>LICENSE STATUS</th>\n",
       "      <td>AAI</td>\n",
       "      <td>AAC</td>\n",
       "      <td>AAI</td>\n",
       "      <td>AAI</td>\n",
       "      <td>AAI</td>\n",
       "    </tr>\n",
       "  </tbody>\n",
       "</table>\n",
       "</div>"
      ],
      "text/plain": [
       "                                                                                   0  \\\n",
       "ID                                                                    35342-20020816   \n",
       "LICENSE ID                                                                   1256593   \n",
       "ACCOUNT NUMBER                                                                 32811   \n",
       "SITE NUMBER                                                                        1   \n",
       "LEGAL NAME                                                              CARMEN CAHUE   \n",
       "DOING BUSINESS AS NAME                                         CLAUDIA'S BRIDAL SHOP   \n",
       "ADDRESS                                                   2625 S CENTRAL PARK AVE  1   \n",
       "CITY                                                                         CHICAGO   \n",
       "STATE                                                                             IL   \n",
       "ZIP CODE                                                                     60623.0   \n",
       "WARD                                                                            22.0   \n",
       "PRECINCT                                                                        28.0   \n",
       "WARD PRECINCT                                                                  22-28   \n",
       "POLICE DISTRICT                                                                 10.0   \n",
       "LICENSE CODE                                                                    1010   \n",
       "LICENSE DESCRIPTION                                         Limited Business License   \n",
       "LICENSE NUMBER                                                               35342.0   \n",
       "APPLICATION TYPE                                                               RENEW   \n",
       "APPLICATION CREATED DATE                                                         NaN   \n",
       "APPLICATION REQUIREMENTS COMPLETE                                2002-06-28T00:00:00   \n",
       "PAYMENT DATE                                                     2002-08-21T00:00:00   \n",
       "CONDITIONAL APPROVAL                                                               N   \n",
       "LICENSE TERM START DATE                                          2002-08-16T00:00:00   \n",
       "LICENSE TERM EXPIRATION DATE                                     2003-08-15T00:00:00   \n",
       "LICENSE APPROVED FOR ISSUANCE                                    2002-08-21T00:00:00   \n",
       "DATE ISSUED                                                      2006-04-11T00:00:00   \n",
       "LICENSE STATUS CHANGE DATE                                                       NaN   \n",
       "SSA                                                                             25.0   \n",
       "LATITUDE                                                                   41.843613   \n",
       "LONGITUDE                                                                 -87.714618   \n",
       "LOCATION                           {'latitude': '41.843612879431845', 'longitude'...   \n",
       "LICENSE STATUS                                                                   AAI   \n",
       "\n",
       "                                                                                   1  \\\n",
       "ID                                                                  1358463-20051116   \n",
       "LICENSE ID                                                                   1639294   \n",
       "ACCOUNT NUMBER                                                                262311   \n",
       "SITE NUMBER                                                                       29   \n",
       "LEGAL NAME                                                       ISLA TROPICAL, INC.   \n",
       "DOING BUSINESS AS NAME                                                 ISLA TROPICAL   \n",
       "ADDRESS                                                          2825 W MONTROSE AVE   \n",
       "CITY                                                                         CHICAGO   \n",
       "STATE                                                                             IL   \n",
       "ZIP CODE                                                                       60618   \n",
       "WARD                                                                            33.0   \n",
       "PRECINCT                                                                        23.0   \n",
       "WARD PRECINCT                                                                  33-23   \n",
       "POLICE DISTRICT                                                                 17.0   \n",
       "LICENSE CODE                                                                    1315   \n",
       "LICENSE DESCRIPTION                                            Mobile Food Dispenser   \n",
       "LICENSE NUMBER                                                             1358463.0   \n",
       "APPLICATION TYPE                                                               RENEW   \n",
       "APPLICATION CREATED DATE                                                         NaN   \n",
       "APPLICATION REQUIREMENTS COMPLETE                                2005-09-22T00:00:00   \n",
       "PAYMENT DATE                                                     2005-11-03T00:00:00   \n",
       "CONDITIONAL APPROVAL                                                               N   \n",
       "LICENSE TERM START DATE                                          2005-11-16T00:00:00   \n",
       "LICENSE TERM EXPIRATION DATE                                     2006-11-15T00:00:00   \n",
       "LICENSE APPROVED FOR ISSUANCE                                    2006-04-05T00:00:00   \n",
       "DATE ISSUED                                                      2006-06-12T00:00:00   \n",
       "LICENSE STATUS CHANGE DATE                                       2006-06-15T00:00:00   \n",
       "SSA                                                                             60.0   \n",
       "LATITUDE                                                                   41.961132   \n",
       "LONGITUDE                                                                 -87.699626   \n",
       "LOCATION                           {'latitude': '41.96113244107215', 'longitude':...   \n",
       "LICENSE STATUS                                                                   AAC   \n",
       "\n",
       "                                                      2  \\\n",
       "ID                                     1980233-20090722   \n",
       "LICENSE ID                                      1980233   \n",
       "ACCOUNT NUMBER                                   345008   \n",
       "SITE NUMBER                                           1   \n",
       "LEGAL NAME                               DJS REMODELING   \n",
       "DOING BUSINESS AS NAME             DJS REMODELING, INC.   \n",
       "ADDRESS                               1605  CLAVEY RD 1   \n",
       "CITY                                           HIGHLAND   \n",
       "STATE                                                IL   \n",
       "ZIP CODE                                          60035   \n",
       "WARD                                                NaN   \n",
       "PRECINCT                                            NaN   \n",
       "WARD PRECINCT                                       NaN   \n",
       "POLICE DISTRICT                                     NaN   \n",
       "LICENSE CODE                                       1011   \n",
       "LICENSE DESCRIPTION                         Home Repair   \n",
       "LICENSE NUMBER                                1980233.0   \n",
       "APPLICATION TYPE                                  ISSUE   \n",
       "APPLICATION CREATED DATE            2009-06-29T00:00:00   \n",
       "APPLICATION REQUIREMENTS COMPLETE   2009-07-22T00:00:00   \n",
       "PAYMENT DATE                        2009-07-22T00:00:00   \n",
       "CONDITIONAL APPROVAL                                  N   \n",
       "LICENSE TERM START DATE             2009-07-22T00:00:00   \n",
       "LICENSE TERM EXPIRATION DATE        2011-07-15T00:00:00   \n",
       "LICENSE APPROVED FOR ISSUANCE       2009-07-22T00:00:00   \n",
       "DATE ISSUED                         2009-07-22T00:00:00   \n",
       "LICENSE STATUS CHANGE DATE                          NaN   \n",
       "SSA                                                 NaN   \n",
       "LATITUDE                                            NaN   \n",
       "LONGITUDE                                           NaN   \n",
       "LOCATION                                            NaN   \n",
       "LICENSE STATUS                                      AAI   \n",
       "\n",
       "                                                          3  \\\n",
       "ID                                         1476582-20040211   \n",
       "LICENSE ID                                          1476582   \n",
       "ACCOUNT NUMBER                                       273121   \n",
       "SITE NUMBER                                               1   \n",
       "LEGAL NAME                         ALL-BRY CONSTRUCTION CO.   \n",
       "DOING BUSINESS AS NAME             ALL-BRY CONSTRUCTION CO.   \n",
       "ADDRESS                                      8  NORTH TRAIL   \n",
       "CITY                                                 LEMONT   \n",
       "STATE                                                    IL   \n",
       "ZIP CODE                                              60439   \n",
       "WARD                                                    NaN   \n",
       "PRECINCT                                                NaN   \n",
       "WARD PRECINCT                                           NaN   \n",
       "POLICE DISTRICT                                         NaN   \n",
       "LICENSE CODE                                           1010   \n",
       "LICENSE DESCRIPTION                Limited Business License   \n",
       "LICENSE NUMBER                                    1476582.0   \n",
       "APPLICATION TYPE                                      ISSUE   \n",
       "APPLICATION CREATED DATE                2004-02-10T00:00:00   \n",
       "APPLICATION REQUIREMENTS COMPLETE       2004-02-10T00:00:00   \n",
       "PAYMENT DATE                            2004-02-10T00:00:00   \n",
       "CONDITIONAL APPROVAL                                      N   \n",
       "LICENSE TERM START DATE                 2004-02-11T00:00:00   \n",
       "LICENSE TERM EXPIRATION DATE            2005-02-15T00:00:00   \n",
       "LICENSE APPROVED FOR ISSUANCE           2004-02-10T00:00:00   \n",
       "DATE ISSUED                             2004-02-11T00:00:00   \n",
       "LICENSE STATUS CHANGE DATE                              NaN   \n",
       "SSA                                                     NaN   \n",
       "LATITUDE                                                NaN   \n",
       "LONGITUDE                                               NaN   \n",
       "LOCATION                                                NaN   \n",
       "LICENSE STATUS                                          AAI   \n",
       "\n",
       "                                                              4  \n",
       "ID                                             1141408-20080516  \n",
       "LICENSE ID                                              1896750  \n",
       "ACCOUNT NUMBER                                           213785  \n",
       "SITE NUMBER                                                   1  \n",
       "LEGAL NAME                         MCDONOUGH MECHANICAL SERVICE  \n",
       "DOING BUSINESS AS NAME             MCDONOUGH MECHANICAL SERVICE  \n",
       "ADDRESS                                         4081  JOSEPH DR  \n",
       "CITY                                                   WAUKEGAN  \n",
       "STATE                                                        IL  \n",
       "ZIP CODE                                                  60087  \n",
       "WARD                                                        NaN  \n",
       "PRECINCT                                                    NaN  \n",
       "WARD PRECINCT                                               NaN  \n",
       "POLICE DISTRICT                                             NaN  \n",
       "LICENSE CODE                                               1010  \n",
       "LICENSE DESCRIPTION                    Limited Business License  \n",
       "LICENSE NUMBER                                        1141408.0  \n",
       "APPLICATION TYPE                                          RENEW  \n",
       "APPLICATION CREATED DATE                                    NaN  \n",
       "APPLICATION REQUIREMENTS COMPLETE           2008-03-24T00:00:00  \n",
       "PAYMENT DATE                                2008-06-04T00:00:00  \n",
       "CONDITIONAL APPROVAL                                          N  \n",
       "LICENSE TERM START DATE                     2008-05-16T00:00:00  \n",
       "LICENSE TERM EXPIRATION DATE                2010-05-15T00:00:00  \n",
       "LICENSE APPROVED FOR ISSUANCE               2008-06-04T00:00:00  \n",
       "DATE ISSUED                                 2008-06-05T00:00:00  \n",
       "LICENSE STATUS CHANGE DATE                                  NaN  \n",
       "SSA                                                         NaN  \n",
       "LATITUDE                                                    NaN  \n",
       "LONGITUDE                                                   NaN  \n",
       "LOCATION                                                    NaN  \n",
       "LICENSE STATUS                                              AAI  "
      ]
     },
     "metadata": {},
     "output_type": "display_data"
    }
   ],
   "source": [
    "# read the df\n",
    "df = pd.read_csv(\"License_data.csv\")\n",
    "\n",
    "# print the shape of the dataframe\n",
    "print(df.shape)\n",
    "\n",
    "# show the top few rows\n",
    "display(df.head().T)"
   ]
  },
  {
   "cell_type": "code",
   "execution_count": 4,
   "metadata": {},
   "outputs": [],
   "source": [
    "# change the columns name\n",
    "new_col_name = [col.replace(\" \",\"_\").lower() for col in df.columns]\n",
    "df.columns = new_col_name"
   ]
  },
  {
   "cell_type": "markdown",
   "metadata": {},
   "source": [
    "## Variable Description\n",
    "\n",
    "<b>Dependent Variable</b>   <br>\n",
    "&nbsp;&nbsp;&nbsp;&nbsp;    1. AAI - License status is issued <br>\n",
    "&nbsp;&nbsp;&nbsp;&nbsp;    2. AAC - License status is cancelled <br>\n",
    "&nbsp;&nbsp;&nbsp;&nbsp;    3. REV - License status is revoked <br>\n",
    "&nbsp;&nbsp;&nbsp;&nbsp;    4. REA - License status is revoked and appealed <br>\n",
    "&nbsp;&nbsp;&nbsp;&nbsp;    5. INQ - License status is in enquiry <br>\n",
    "    <br>\n",
    "<b>Independent Variable</b> : <br>\n",
    "&nbsp;&nbsp;&nbsp;&nbsp;    Timeline of the application status <br>\n",
    "&nbsp;&nbsp;&nbsp;&nbsp;    Type of business <br>\n",
    "&nbsp;&nbsp;&nbsp;&nbsp;    Location details of the business <br>\n",
    "&nbsp;&nbsp;&nbsp;&nbsp;    Payment details <br>\n",
    "_______________________________________________________________________________________________________________________________"
   ]
  },
  {
   "cell_type": "code",
   "execution_count": 5,
   "metadata": {},
   "outputs": [
    {
     "data": {
      "text/plain": [
       "Index(['id', 'license_id', 'account_number', 'site_number', 'legal_name',\n",
       "       'doing_business_as_name', 'address', 'city', 'state', 'zip_code',\n",
       "       'ward', 'precinct', 'ward_precinct', 'police_district', 'license_code',\n",
       "       'license_description', 'license_number', 'application_type',\n",
       "       'application_created_date', 'application_requirements_complete',\n",
       "       'payment_date', 'conditional_approval', 'license_term_start_date',\n",
       "       'license_term_expiration_date', 'license_approved_for_issuance',\n",
       "       'date_issued', 'license_status_change_date', 'ssa', 'latitude',\n",
       "       'longitude', 'location', 'license_status'],\n",
       "      dtype='object')"
      ]
     },
     "execution_count": 5,
     "metadata": {},
     "output_type": "execute_result"
    }
   ],
   "source": [
    "df.columns"
   ]
  },
  {
   "cell_type": "markdown",
   "metadata": {},
   "source": [
    "## Data Cleansing\n",
    "\n",
    "1. Missing Values - lot of missing data for particular variables\n",
    "2. Unique Data - id (no meaning)\n",
    "3. Data leakage - The AAI alone doesn't have licesnse status change value (as the license are never revoked/cancelled) \n"
   ]
  },
  {
   "cell_type": "code",
   "execution_count": 6,
   "metadata": {},
   "outputs": [
    {
     "data": {
      "text/plain": [
       "id                                       0\n",
       "license_id                               0\n",
       "account_number                           0\n",
       "site_number                              0\n",
       "legal_name                               0\n",
       "doing_business_as_name                   1\n",
       "address                                  0\n",
       "city                                     0\n",
       "state                                    0\n",
       "zip_code                                31\n",
       "ward                                 49701\n",
       "precinct                             56701\n",
       "ward_precinct                        49700\n",
       "police_district                      54012\n",
       "license_code                             0\n",
       "license_description                      0\n",
       "license_number                           1\n",
       "application_type                         0\n",
       "application_created_date             64660\n",
       "application_requirements_complete      214\n",
       "payment_date                          1289\n",
       "conditional_approval                     0\n",
       "license_term_start_date                228\n",
       "license_term_expiration_date            18\n",
       "license_approved_for_issuance         6789\n",
       "date_issued                              0\n",
       "license_status_change_date           55400\n",
       "ssa                                  76446\n",
       "latitude                             47246\n",
       "longitude                            47246\n",
       "location                             47246\n",
       "license_status                           0\n",
       "dtype: int64"
      ]
     },
     "execution_count": 6,
     "metadata": {},
     "output_type": "execute_result"
    }
   ],
   "source": [
    "df.isnull().sum()"
   ]
  },
  {
   "cell_type": "code",
   "execution_count": 7,
   "metadata": {},
   "outputs": [],
   "source": [
    "# Drop columns which are not relevent for the prediction / too many missing values\n",
    "drop_col_list = [\"id\",\"license_id\",\"ssa\",\"location\",\"application_created_date\",\"account_number\",\"address\"]\n",
    "df = df.drop(drop_col_list, axis=1)"
   ]
  },
  {
   "cell_type": "code",
   "execution_count": 8,
   "metadata": {},
   "outputs": [],
   "source": [
    "df[\"license_status_change\"] = np.where(df.license_status_change_date.isnull(),1,0)"
   ]
  },
  {
   "cell_type": "code",
   "execution_count": 9,
   "metadata": {},
   "outputs": [
    {
     "data": {
      "text/html": [
       "<div>\n",
       "<style scoped>\n",
       "    .dataframe tbody tr th:only-of-type {\n",
       "        vertical-align: middle;\n",
       "    }\n",
       "\n",
       "    .dataframe tbody tr th {\n",
       "        vertical-align: top;\n",
       "    }\n",
       "\n",
       "    .dataframe thead th {\n",
       "        text-align: right;\n",
       "    }\n",
       "</style>\n",
       "<table border=\"1\" class=\"dataframe\">\n",
       "  <thead>\n",
       "    <tr style=\"text-align: right;\">\n",
       "      <th>license_status</th>\n",
       "      <th>AAC</th>\n",
       "      <th>AAI</th>\n",
       "      <th>INQ</th>\n",
       "      <th>REA</th>\n",
       "      <th>REV</th>\n",
       "    </tr>\n",
       "    <tr>\n",
       "      <th>license_status_change</th>\n",
       "      <th></th>\n",
       "      <th></th>\n",
       "      <th></th>\n",
       "      <th></th>\n",
       "      <th></th>\n",
       "    </tr>\n",
       "  </thead>\n",
       "  <tbody>\n",
       "    <tr>\n",
       "      <th>0</th>\n",
       "      <td>30200</td>\n",
       "      <td>0</td>\n",
       "      <td>2</td>\n",
       "      <td>3</td>\n",
       "      <td>290</td>\n",
       "    </tr>\n",
       "    <tr>\n",
       "      <th>1</th>\n",
       "      <td>0</td>\n",
       "      <td>55400</td>\n",
       "      <td>0</td>\n",
       "      <td>0</td>\n",
       "      <td>0</td>\n",
       "    </tr>\n",
       "  </tbody>\n",
       "</table>\n",
       "</div>"
      ],
      "text/plain": [
       "license_status           AAC    AAI  INQ  REA  REV\n",
       "license_status_change                             \n",
       "0                      30200      0    2    3  290\n",
       "1                          0  55400    0    0    0"
      ]
     },
     "execution_count": 9,
     "metadata": {},
     "output_type": "execute_result"
    }
   ],
   "source": [
    "pd.crosstab(df.license_status_change,df.license_status)"
   ]
  },
  {
   "cell_type": "markdown",
   "metadata": {},
   "source": [
    "## Data Transformation\n",
    "1. Timeline creation\n",
    "2. Encoding\n",
    "3. New Feature"
   ]
  },
  {
   "cell_type": "code",
   "execution_count": 10,
   "metadata": {},
   "outputs": [],
   "source": [
    "# convert string object into date\n",
    "df.application_requirements_complete = pd.DatetimeIndex(df.application_requirements_complete)\n",
    "df.payment_date = pd.DatetimeIndex(df.payment_date)\n",
    "df.license_term_start_date = pd.DatetimeIndex(df.license_term_start_date)\n",
    "df.license_term_expiration_date = pd.DatetimeIndex(df.license_term_expiration_date)\n",
    "df.license_approved_for_issuance = pd.DatetimeIndex(df.license_approved_for_issuance)\n",
    "df.date_issued = pd.DatetimeIndex(df.date_issued)"
   ]
  },
  {
   "cell_type": "code",
   "execution_count": 11,
   "metadata": {},
   "outputs": [],
   "source": [
    "# Find no.of days btw different application status date\n",
    "df[\"completion_to_start\"] = (df.license_term_start_date - df.application_requirements_complete).dt.days\n",
    "df[\"start_to_expiry\"] =  (df.license_term_expiration_date - df.license_term_start_date).dt.days\n",
    "df[\"approval_to_issuance\"] = (df.date_issued - df.license_approved_for_issuance).dt.days\n",
    "df[\"completion_to_payment\"] = (df.payment_date - df.application_requirements_complete).dt.days\n",
    "\n",
    "df[\"presence_of_enquiry_details\"] = np.where(df.ward.isnull() | df.ward_precinct.isnull() | df.police_district | df.precinct , 0 ,1 )\n",
    "\n",
    "df[\"target\"] = df[['license_status']].apply(lambda col:pd.Categorical(col).codes)"
   ]
  },
  {
   "cell_type": "code",
   "execution_count": 12,
   "metadata": {},
   "outputs": [
    {
     "data": {
      "text/plain": [
       "array(['CHICAGO', 'HIGHLAND', 'LEMONT', ..., 'ABERDEEN', 'PENSACOLA',\n",
       "       'MACHESNEY PARK'], shape=(1223,), dtype=object)"
      ]
     },
     "execution_count": 12,
     "metadata": {},
     "output_type": "execute_result"
    }
   ],
   "source": [
    "df.city.unique()"
   ]
  },
  {
   "cell_type": "code",
   "execution_count": 13,
   "metadata": {},
   "outputs": [
    {
     "name": "stdout",
     "output_type": "stream",
     "text": [
      "Index(['target_1', 'target_2', 'target_3', 'target_4', 'target_5'], dtype='object')\n"
     ]
    }
   ],
   "source": [
    "enc=ce.OneHotEncoder().fit(df.target.astype(str))\n",
    "y_onehot=enc.transform(df.target.astype(str))\n",
    "print(y_onehot.columns)"
   ]
  },
  {
   "cell_type": "markdown",
   "metadata": {},
   "source": [
    "## Target Encoding"
   ]
  },
  {
   "cell_type": "code",
   "execution_count": 14,
   "metadata": {},
   "outputs": [],
   "source": [
    "enc=ce.OneHotEncoder().fit(df.target.astype(str))\n",
    "y_onehot=enc.transform(df.target.astype(str))\n",
    "\n",
    "class_names=y_onehot.columns\n",
    "for class_ in class_names:\n",
    "  enc=ce.TargetEncoder(smoothing=0)\n",
    "  temp = enc.fit_transform(df[[\"license_description\",\"state\",\"city\"]],y_onehot[class_])\n",
    "  temp.columns=[str(x)+'_'+str(class_) for x in temp.columns]\n",
    "  df = pd.concat([df,temp],axis=1)"
   ]
  },
  {
   "cell_type": "markdown",
   "metadata": {},
   "source": [
    "### Class Imbalance "
   ]
  },
  {
   "cell_type": "code",
   "execution_count": 15,
   "metadata": {},
   "outputs": [
    {
     "data": {
      "text/plain": [
       "license_status\n",
       "AAI    55400\n",
       "AAC    30200\n",
       "REV      290\n",
       "REA        3\n",
       "INQ        2\n",
       "Name: count, dtype: int64"
      ]
     },
     "execution_count": 15,
     "metadata": {},
     "output_type": "execute_result"
    }
   ],
   "source": [
    "df.license_status.value_counts()"
   ]
  },
  {
   "cell_type": "code",
   "execution_count": 16,
   "metadata": {},
   "outputs": [
    {
     "data": {
      "text/plain": [
       "license_status\n",
       "AAI    64.497%\n",
       "AAC    35.159%\n",
       "REV     0.338%\n",
       "REA     0.003%\n",
       "INQ     0.002%\n",
       "Name: proportion, dtype: object"
      ]
     },
     "execution_count": 16,
     "metadata": {},
     "output_type": "execute_result"
    }
   ],
   "source": [
    "df.license_status.value_counts(normalize=True).mul(100).round(3).astype(str) + '%'"
   ]
  },
  {
   "cell_type": "markdown",
   "metadata": {},
   "source": [
    "## over sampling/under sampling"
   ]
  },
  {
   "cell_type": "code",
   "execution_count": 17,
   "metadata": {},
   "outputs": [
    {
     "data": {
      "text/plain": [
       "[0, 1, 2, 3, 4]"
      ]
     },
     "execution_count": 17,
     "metadata": {},
     "output_type": "execute_result"
    }
   ],
   "source": [
    "np.sort(df.target.unique()).tolist()"
   ]
  },
  {
   "cell_type": "code",
   "execution_count": 18,
   "metadata": {},
   "outputs": [
    {
     "data": {
      "text/plain": [
       "target\n",
       "1    16620\n",
       "0     9060\n",
       "4      580\n",
       "2      400\n",
       "3      300\n",
       "Name: count, dtype: int64"
      ]
     },
     "execution_count": 18,
     "metadata": {},
     "output_type": "execute_result"
    }
   ],
   "source": [
    "# Undersampling\n",
    "df_0 = df[df.target==0].sample(frac=0.3,replace=False)\n",
    "df_1 = df[df.target==1].sample(frac=0.3,replace=False)\n",
    "# oversamplig\n",
    "df_2 = df[df.target==2].sample(frac=200,replace=True)\n",
    "df_3 = df[df.target==3].sample(frac=100,replace=True)\n",
    "df_4 = df[df.target==4].sample(frac=2,replace=True)\n",
    "\n",
    "sampled_df = pd.concat([df_0,df_1,df_2,df_3,df_4])\n",
    "\n",
    "sampled_df.target.value_counts()"
   ]
  },
  {
   "cell_type": "markdown",
   "metadata": {},
   "source": [
    "## Train / Test Data Preparation"
   ]
  },
  {
   "cell_type": "code",
   "execution_count": 19,
   "metadata": {},
   "outputs": [],
   "source": [
    "X = sampled_df[['latitude', 'longitude',\n",
    "       'completion_to_start',\n",
    "       'start_to_expiry', 'approval_to_issuance', 'completion_to_payment',\n",
    "       'presence_of_enquiry_details',  'license_description_target_1',\n",
    "       'state_target_1', 'city_target_1', 'license_description_target_2',\n",
    "       'state_target_2', 'city_target_2', 'license_description_target_3',\n",
    "       'state_target_3', 'city_target_3', 'license_description_target_4',\n",
    "       'state_target_4', 'city_target_4', 'license_description_target_5',\n",
    "       'state_target_5', 'city_target_5']]\n",
    "\n",
    "y = sampled_df['target']"
   ]
  },
  {
   "cell_type": "code",
   "execution_count": 20,
   "metadata": {},
   "outputs": [],
   "source": [
    "# mean imputation\n",
    "X = X.fillna(X.mean())"
   ]
  },
  {
   "cell_type": "code",
   "execution_count": 21,
   "metadata": {},
   "outputs": [],
   "source": [
    "# Train/test preparation\n",
    "from sklearn.model_selection import train_test_split\n",
    "from sklearn.ensemble import RandomForestClassifier\n",
    "from sklearn.metrics import f1_score\n",
    "\n",
    "X_train, X_test, y_train, y_test = train_test_split(X,y, test_size=0.1)"
   ]
  },
  {
   "cell_type": "markdown",
   "metadata": {},
   "source": [
    "## Modeling"
   ]
  },
  {
   "cell_type": "code",
   "execution_count": 22,
   "metadata": {},
   "outputs": [],
   "source": [
    "# KNN\n",
    "from sklearn.neighbors import KNeighborsClassifier\n",
    "knn_model = KNeighborsClassifier(n_neighbors=3)"
   ]
  },
  {
   "cell_type": "code",
   "execution_count": 23,
   "metadata": {},
   "outputs": [],
   "source": [
    "# Scaling\n",
    "from sklearn.preprocessing import MinMaxScaler\n",
    "scaler = MinMaxScaler()\n",
    "scaler.fit(X_train)\n",
    "knn_model.fit((scaler.transform(X_train)),y_train)\n",
    "scaler.fit(X_test)\n",
    "y_pred = knn_model.predict(scaler.transform(X_test))"
   ]
  },
  {
   "cell_type": "code",
   "execution_count": 24,
   "metadata": {},
   "outputs": [
    {
     "name": "stdout",
     "output_type": "stream",
     "text": [
      "              precision    recall  f1-score   support\n",
      "\n",
      "           0       0.83      0.68      0.75       913\n",
      "           1       0.82      0.94      0.88      1672\n",
      "           2       0.00      0.00      0.00        43\n",
      "           3       1.00      0.25      0.40        16\n",
      "           4       0.83      0.38      0.53        52\n",
      "\n",
      "    accuracy                           0.83      2696\n",
      "   macro avg       0.70      0.45      0.51      2696\n",
      "weighted avg       0.81      0.83      0.81      2696\n",
      "\n"
     ]
    },
    {
     "name": "stderr",
     "output_type": "stream",
     "text": [
      "c:\\Users\\casie\\Data Science Coding Folder\\.venv\\lib\\site-packages\\sklearn\\metrics\\_classification.py:1531: UndefinedMetricWarning: Precision is ill-defined and being set to 0.0 in labels with no predicted samples. Use `zero_division` parameter to control this behavior.\n",
      "  _warn_prf(average, modifier, f\"{metric.capitalize()} is\", len(result))\n",
      "c:\\Users\\casie\\Data Science Coding Folder\\.venv\\lib\\site-packages\\sklearn\\metrics\\_classification.py:1531: UndefinedMetricWarning: Precision is ill-defined and being set to 0.0 in labels with no predicted samples. Use `zero_division` parameter to control this behavior.\n",
      "  _warn_prf(average, modifier, f\"{metric.capitalize()} is\", len(result))\n",
      "c:\\Users\\casie\\Data Science Coding Folder\\.venv\\lib\\site-packages\\sklearn\\metrics\\_classification.py:1531: UndefinedMetricWarning: Precision is ill-defined and being set to 0.0 in labels with no predicted samples. Use `zero_division` parameter to control this behavior.\n",
      "  _warn_prf(average, modifier, f\"{metric.capitalize()} is\", len(result))\n"
     ]
    }
   ],
   "source": [
    "# Metrics Performance\n",
    "from sklearn.metrics import classification_report\n",
    "from sklearn.metrics import classification_report,confusion_matrix\n",
    "print(classification_report(y_test,y_pred))"
   ]
  },
  {
   "cell_type": "code",
   "execution_count": 25,
   "metadata": {},
   "outputs": [
    {
     "name": "stderr",
     "output_type": "stream",
     "text": [
      "c:\\Users\\casie\\Data Science Coding Folder\\.venv\\lib\\site-packages\\sklearn\\linear_model\\_logistic.py:469: ConvergenceWarning: lbfgs failed to converge (status=1):\n",
      "STOP: TOTAL NO. OF ITERATIONS REACHED LIMIT.\n",
      "\n",
      "Increase the number of iterations (max_iter) or scale the data as shown in:\n",
      "    https://scikit-learn.org/stable/modules/preprocessing.html\n",
      "Please also refer to the documentation for alternative solver options:\n",
      "    https://scikit-learn.org/stable/modules/linear_model.html#logistic-regression\n",
      "  n_iter_i = _check_optimize_result(\n"
     ]
    }
   ],
   "source": [
    "# Logistic regression\n",
    "from sklearn.linear_model import LogisticRegression\n",
    "log_model = LogisticRegression()\n",
    "log_model.fit(X_train, y_train)\n",
    "y_pred = log_model.predict(X_test)"
   ]
  },
  {
   "cell_type": "code",
   "execution_count": 26,
   "metadata": {},
   "outputs": [
    {
     "name": "stdout",
     "output_type": "stream",
     "text": [
      "              precision    recall  f1-score   support\n",
      "\n",
      "           0       0.66      0.49      0.56       913\n",
      "           1       0.74      0.89      0.81      1672\n",
      "           2       0.00      0.00      0.00        43\n",
      "           3       0.00      0.00      0.00        16\n",
      "           4       0.00      0.00      0.00        52\n",
      "\n",
      "    accuracy                           0.72      2696\n",
      "   macro avg       0.28      0.28      0.27      2696\n",
      "weighted avg       0.68      0.72      0.69      2696\n",
      "\n"
     ]
    },
    {
     "name": "stderr",
     "output_type": "stream",
     "text": [
      "c:\\Users\\casie\\Data Science Coding Folder\\.venv\\lib\\site-packages\\sklearn\\metrics\\_classification.py:1531: UndefinedMetricWarning: Precision is ill-defined and being set to 0.0 in labels with no predicted samples. Use `zero_division` parameter to control this behavior.\n",
      "  _warn_prf(average, modifier, f\"{metric.capitalize()} is\", len(result))\n",
      "c:\\Users\\casie\\Data Science Coding Folder\\.venv\\lib\\site-packages\\sklearn\\metrics\\_classification.py:1531: UndefinedMetricWarning: Precision is ill-defined and being set to 0.0 in labels with no predicted samples. Use `zero_division` parameter to control this behavior.\n",
      "  _warn_prf(average, modifier, f\"{metric.capitalize()} is\", len(result))\n",
      "c:\\Users\\casie\\Data Science Coding Folder\\.venv\\lib\\site-packages\\sklearn\\metrics\\_classification.py:1531: UndefinedMetricWarning: Precision is ill-defined and being set to 0.0 in labels with no predicted samples. Use `zero_division` parameter to control this behavior.\n",
      "  _warn_prf(average, modifier, f\"{metric.capitalize()} is\", len(result))\n"
     ]
    }
   ],
   "source": [
    "# Metrics Performance\n",
    "print(classification_report(y_test,y_pred))"
   ]
  },
  {
   "cell_type": "code",
   "execution_count": 27,
   "metadata": {},
   "outputs": [
    {
     "name": "stdout",
     "output_type": "stream",
     "text": [
      "[[ 446  466    1    0    0]\n",
      " [ 175 1495    2    0    0]\n",
      " [   0   43    0    0    0]\n",
      " [  16    0    0    0    0]\n",
      " [  42   10    0    0    0]]\n"
     ]
    }
   ],
   "source": [
    "# Metrics Performance\n",
    "print(confusion_matrix(y_test,y_pred))"
   ]
  },
  {
   "cell_type": "code",
   "execution_count": 28,
   "metadata": {},
   "outputs": [],
   "source": [
    "# Naive Bias\n",
    "from sklearn.naive_bayes import GaussianNB\n",
    "nb_model = GaussianNB()\n",
    "y_pred = nb_model.fit(X_train, y_train).predict(X_test)"
   ]
  },
  {
   "cell_type": "code",
   "execution_count": 29,
   "metadata": {},
   "outputs": [
    {
     "name": "stdout",
     "output_type": "stream",
     "text": [
      "              precision    recall  f1-score   support\n",
      "\n",
      "           0       0.60      0.41      0.49       913\n",
      "           1       0.91      0.83      0.87      1672\n",
      "           2       1.00      1.00      1.00        43\n",
      "           3       0.15      1.00      0.25        16\n",
      "           4       0.08      0.62      0.15        52\n",
      "\n",
      "    accuracy                           0.69      2696\n",
      "   macro avg       0.55      0.77      0.55      2696\n",
      "weighted avg       0.79      0.69      0.73      2696\n",
      "\n"
     ]
    }
   ],
   "source": [
    "# Metrics Performance\n",
    "print(classification_report(y_test,y_pred))"
   ]
  },
  {
   "cell_type": "code",
   "execution_count": 30,
   "metadata": {},
   "outputs": [
    {
     "name": "stdout",
     "output_type": "stream",
     "text": [
      "[[ 378  131    0   80  324]\n",
      " [ 241 1393    0    5   33]\n",
      " [   0    0   43    0    0]\n",
      " [   0    0    0   16    0]\n",
      " [  11    0    0    9   32]]\n"
     ]
    }
   ],
   "source": [
    "print(confusion_matrix(y_test,y_pred))"
   ]
  },
  {
   "cell_type": "code",
   "execution_count": 31,
   "metadata": {},
   "outputs": [],
   "source": [
    "# Decision Tree\n",
    "from sklearn.tree import DecisionTreeClassifier\n",
    "dt_model = DecisionTreeClassifier(random_state=0)\n",
    "y_pred = dt_model.fit(X_train, y_train).predict(X_test)"
   ]
  },
  {
   "cell_type": "code",
   "execution_count": 32,
   "metadata": {},
   "outputs": [
    {
     "data": {
      "text/html": [
       "<style>#sk-container-id-1 {\n",
       "  /* Definition of color scheme common for light and dark mode */\n",
       "  --sklearn-color-text: black;\n",
       "  --sklearn-color-line: gray;\n",
       "  /* Definition of color scheme for unfitted estimators */\n",
       "  --sklearn-color-unfitted-level-0: #fff5e6;\n",
       "  --sklearn-color-unfitted-level-1: #f6e4d2;\n",
       "  --sklearn-color-unfitted-level-2: #ffe0b3;\n",
       "  --sklearn-color-unfitted-level-3: chocolate;\n",
       "  /* Definition of color scheme for fitted estimators */\n",
       "  --sklearn-color-fitted-level-0: #f0f8ff;\n",
       "  --sklearn-color-fitted-level-1: #d4ebff;\n",
       "  --sklearn-color-fitted-level-2: #b3dbfd;\n",
       "  --sklearn-color-fitted-level-3: cornflowerblue;\n",
       "\n",
       "  /* Specific color for light theme */\n",
       "  --sklearn-color-text-on-default-background: var(--sg-text-color, var(--theme-code-foreground, var(--jp-content-font-color1, black)));\n",
       "  --sklearn-color-background: var(--sg-background-color, var(--theme-background, var(--jp-layout-color0, white)));\n",
       "  --sklearn-color-border-box: var(--sg-text-color, var(--theme-code-foreground, var(--jp-content-font-color1, black)));\n",
       "  --sklearn-color-icon: #696969;\n",
       "\n",
       "  @media (prefers-color-scheme: dark) {\n",
       "    /* Redefinition of color scheme for dark theme */\n",
       "    --sklearn-color-text-on-default-background: var(--sg-text-color, var(--theme-code-foreground, var(--jp-content-font-color1, white)));\n",
       "    --sklearn-color-background: var(--sg-background-color, var(--theme-background, var(--jp-layout-color0, #111)));\n",
       "    --sklearn-color-border-box: var(--sg-text-color, var(--theme-code-foreground, var(--jp-content-font-color1, white)));\n",
       "    --sklearn-color-icon: #878787;\n",
       "  }\n",
       "}\n",
       "\n",
       "#sk-container-id-1 {\n",
       "  color: var(--sklearn-color-text);\n",
       "}\n",
       "\n",
       "#sk-container-id-1 pre {\n",
       "  padding: 0;\n",
       "}\n",
       "\n",
       "#sk-container-id-1 input.sk-hidden--visually {\n",
       "  border: 0;\n",
       "  clip: rect(1px 1px 1px 1px);\n",
       "  clip: rect(1px, 1px, 1px, 1px);\n",
       "  height: 1px;\n",
       "  margin: -1px;\n",
       "  overflow: hidden;\n",
       "  padding: 0;\n",
       "  position: absolute;\n",
       "  width: 1px;\n",
       "}\n",
       "\n",
       "#sk-container-id-1 div.sk-dashed-wrapped {\n",
       "  border: 1px dashed var(--sklearn-color-line);\n",
       "  margin: 0 0.4em 0.5em 0.4em;\n",
       "  box-sizing: border-box;\n",
       "  padding-bottom: 0.4em;\n",
       "  background-color: var(--sklearn-color-background);\n",
       "}\n",
       "\n",
       "#sk-container-id-1 div.sk-container {\n",
       "  /* jupyter's `normalize.less` sets `[hidden] { display: none; }`\n",
       "     but bootstrap.min.css set `[hidden] { display: none !important; }`\n",
       "     so we also need the `!important` here to be able to override the\n",
       "     default hidden behavior on the sphinx rendered scikit-learn.org.\n",
       "     See: https://github.com/scikit-learn/scikit-learn/issues/21755 */\n",
       "  display: inline-block !important;\n",
       "  position: relative;\n",
       "}\n",
       "\n",
       "#sk-container-id-1 div.sk-text-repr-fallback {\n",
       "  display: none;\n",
       "}\n",
       "\n",
       "div.sk-parallel-item,\n",
       "div.sk-serial,\n",
       "div.sk-item {\n",
       "  /* draw centered vertical line to link estimators */\n",
       "  background-image: linear-gradient(var(--sklearn-color-text-on-default-background), var(--sklearn-color-text-on-default-background));\n",
       "  background-size: 2px 100%;\n",
       "  background-repeat: no-repeat;\n",
       "  background-position: center center;\n",
       "}\n",
       "\n",
       "/* Parallel-specific style estimator block */\n",
       "\n",
       "#sk-container-id-1 div.sk-parallel-item::after {\n",
       "  content: \"\";\n",
       "  width: 100%;\n",
       "  border-bottom: 2px solid var(--sklearn-color-text-on-default-background);\n",
       "  flex-grow: 1;\n",
       "}\n",
       "\n",
       "#sk-container-id-1 div.sk-parallel {\n",
       "  display: flex;\n",
       "  align-items: stretch;\n",
       "  justify-content: center;\n",
       "  background-color: var(--sklearn-color-background);\n",
       "  position: relative;\n",
       "}\n",
       "\n",
       "#sk-container-id-1 div.sk-parallel-item {\n",
       "  display: flex;\n",
       "  flex-direction: column;\n",
       "}\n",
       "\n",
       "#sk-container-id-1 div.sk-parallel-item:first-child::after {\n",
       "  align-self: flex-end;\n",
       "  width: 50%;\n",
       "}\n",
       "\n",
       "#sk-container-id-1 div.sk-parallel-item:last-child::after {\n",
       "  align-self: flex-start;\n",
       "  width: 50%;\n",
       "}\n",
       "\n",
       "#sk-container-id-1 div.sk-parallel-item:only-child::after {\n",
       "  width: 0;\n",
       "}\n",
       "\n",
       "/* Serial-specific style estimator block */\n",
       "\n",
       "#sk-container-id-1 div.sk-serial {\n",
       "  display: flex;\n",
       "  flex-direction: column;\n",
       "  align-items: center;\n",
       "  background-color: var(--sklearn-color-background);\n",
       "  padding-right: 1em;\n",
       "  padding-left: 1em;\n",
       "}\n",
       "\n",
       "\n",
       "/* Toggleable style: style used for estimator/Pipeline/ColumnTransformer box that is\n",
       "clickable and can be expanded/collapsed.\n",
       "- Pipeline and ColumnTransformer use this feature and define the default style\n",
       "- Estimators will overwrite some part of the style using the `sk-estimator` class\n",
       "*/\n",
       "\n",
       "/* Pipeline and ColumnTransformer style (default) */\n",
       "\n",
       "#sk-container-id-1 div.sk-toggleable {\n",
       "  /* Default theme specific background. It is overwritten whether we have a\n",
       "  specific estimator or a Pipeline/ColumnTransformer */\n",
       "  background-color: var(--sklearn-color-background);\n",
       "}\n",
       "\n",
       "/* Toggleable label */\n",
       "#sk-container-id-1 label.sk-toggleable__label {\n",
       "  cursor: pointer;\n",
       "  display: block;\n",
       "  width: 100%;\n",
       "  margin-bottom: 0;\n",
       "  padding: 0.5em;\n",
       "  box-sizing: border-box;\n",
       "  text-align: center;\n",
       "}\n",
       "\n",
       "#sk-container-id-1 label.sk-toggleable__label-arrow:before {\n",
       "  /* Arrow on the left of the label */\n",
       "  content: \"▸\";\n",
       "  float: left;\n",
       "  margin-right: 0.25em;\n",
       "  color: var(--sklearn-color-icon);\n",
       "}\n",
       "\n",
       "#sk-container-id-1 label.sk-toggleable__label-arrow:hover:before {\n",
       "  color: var(--sklearn-color-text);\n",
       "}\n",
       "\n",
       "/* Toggleable content - dropdown */\n",
       "\n",
       "#sk-container-id-1 div.sk-toggleable__content {\n",
       "  max-height: 0;\n",
       "  max-width: 0;\n",
       "  overflow: hidden;\n",
       "  text-align: left;\n",
       "  /* unfitted */\n",
       "  background-color: var(--sklearn-color-unfitted-level-0);\n",
       "}\n",
       "\n",
       "#sk-container-id-1 div.sk-toggleable__content.fitted {\n",
       "  /* fitted */\n",
       "  background-color: var(--sklearn-color-fitted-level-0);\n",
       "}\n",
       "\n",
       "#sk-container-id-1 div.sk-toggleable__content pre {\n",
       "  margin: 0.2em;\n",
       "  border-radius: 0.25em;\n",
       "  color: var(--sklearn-color-text);\n",
       "  /* unfitted */\n",
       "  background-color: var(--sklearn-color-unfitted-level-0);\n",
       "}\n",
       "\n",
       "#sk-container-id-1 div.sk-toggleable__content.fitted pre {\n",
       "  /* unfitted */\n",
       "  background-color: var(--sklearn-color-fitted-level-0);\n",
       "}\n",
       "\n",
       "#sk-container-id-1 input.sk-toggleable__control:checked~div.sk-toggleable__content {\n",
       "  /* Expand drop-down */\n",
       "  max-height: 200px;\n",
       "  max-width: 100%;\n",
       "  overflow: auto;\n",
       "}\n",
       "\n",
       "#sk-container-id-1 input.sk-toggleable__control:checked~label.sk-toggleable__label-arrow:before {\n",
       "  content: \"▾\";\n",
       "}\n",
       "\n",
       "/* Pipeline/ColumnTransformer-specific style */\n",
       "\n",
       "#sk-container-id-1 div.sk-label input.sk-toggleable__control:checked~label.sk-toggleable__label {\n",
       "  color: var(--sklearn-color-text);\n",
       "  background-color: var(--sklearn-color-unfitted-level-2);\n",
       "}\n",
       "\n",
       "#sk-container-id-1 div.sk-label.fitted input.sk-toggleable__control:checked~label.sk-toggleable__label {\n",
       "  background-color: var(--sklearn-color-fitted-level-2);\n",
       "}\n",
       "\n",
       "/* Estimator-specific style */\n",
       "\n",
       "/* Colorize estimator box */\n",
       "#sk-container-id-1 div.sk-estimator input.sk-toggleable__control:checked~label.sk-toggleable__label {\n",
       "  /* unfitted */\n",
       "  background-color: var(--sklearn-color-unfitted-level-2);\n",
       "}\n",
       "\n",
       "#sk-container-id-1 div.sk-estimator.fitted input.sk-toggleable__control:checked~label.sk-toggleable__label {\n",
       "  /* fitted */\n",
       "  background-color: var(--sklearn-color-fitted-level-2);\n",
       "}\n",
       "\n",
       "#sk-container-id-1 div.sk-label label.sk-toggleable__label,\n",
       "#sk-container-id-1 div.sk-label label {\n",
       "  /* The background is the default theme color */\n",
       "  color: var(--sklearn-color-text-on-default-background);\n",
       "}\n",
       "\n",
       "/* On hover, darken the color of the background */\n",
       "#sk-container-id-1 div.sk-label:hover label.sk-toggleable__label {\n",
       "  color: var(--sklearn-color-text);\n",
       "  background-color: var(--sklearn-color-unfitted-level-2);\n",
       "}\n",
       "\n",
       "/* Label box, darken color on hover, fitted */\n",
       "#sk-container-id-1 div.sk-label.fitted:hover label.sk-toggleable__label.fitted {\n",
       "  color: var(--sklearn-color-text);\n",
       "  background-color: var(--sklearn-color-fitted-level-2);\n",
       "}\n",
       "\n",
       "/* Estimator label */\n",
       "\n",
       "#sk-container-id-1 div.sk-label label {\n",
       "  font-family: monospace;\n",
       "  font-weight: bold;\n",
       "  display: inline-block;\n",
       "  line-height: 1.2em;\n",
       "}\n",
       "\n",
       "#sk-container-id-1 div.sk-label-container {\n",
       "  text-align: center;\n",
       "}\n",
       "\n",
       "/* Estimator-specific */\n",
       "#sk-container-id-1 div.sk-estimator {\n",
       "  font-family: monospace;\n",
       "  border: 1px dotted var(--sklearn-color-border-box);\n",
       "  border-radius: 0.25em;\n",
       "  box-sizing: border-box;\n",
       "  margin-bottom: 0.5em;\n",
       "  /* unfitted */\n",
       "  background-color: var(--sklearn-color-unfitted-level-0);\n",
       "}\n",
       "\n",
       "#sk-container-id-1 div.sk-estimator.fitted {\n",
       "  /* fitted */\n",
       "  background-color: var(--sklearn-color-fitted-level-0);\n",
       "}\n",
       "\n",
       "/* on hover */\n",
       "#sk-container-id-1 div.sk-estimator:hover {\n",
       "  /* unfitted */\n",
       "  background-color: var(--sklearn-color-unfitted-level-2);\n",
       "}\n",
       "\n",
       "#sk-container-id-1 div.sk-estimator.fitted:hover {\n",
       "  /* fitted */\n",
       "  background-color: var(--sklearn-color-fitted-level-2);\n",
       "}\n",
       "\n",
       "/* Specification for estimator info (e.g. \"i\" and \"?\") */\n",
       "\n",
       "/* Common style for \"i\" and \"?\" */\n",
       "\n",
       ".sk-estimator-doc-link,\n",
       "a:link.sk-estimator-doc-link,\n",
       "a:visited.sk-estimator-doc-link {\n",
       "  float: right;\n",
       "  font-size: smaller;\n",
       "  line-height: 1em;\n",
       "  font-family: monospace;\n",
       "  background-color: var(--sklearn-color-background);\n",
       "  border-radius: 1em;\n",
       "  height: 1em;\n",
       "  width: 1em;\n",
       "  text-decoration: none !important;\n",
       "  margin-left: 1ex;\n",
       "  /* unfitted */\n",
       "  border: var(--sklearn-color-unfitted-level-1) 1pt solid;\n",
       "  color: var(--sklearn-color-unfitted-level-1);\n",
       "}\n",
       "\n",
       ".sk-estimator-doc-link.fitted,\n",
       "a:link.sk-estimator-doc-link.fitted,\n",
       "a:visited.sk-estimator-doc-link.fitted {\n",
       "  /* fitted */\n",
       "  border: var(--sklearn-color-fitted-level-1) 1pt solid;\n",
       "  color: var(--sklearn-color-fitted-level-1);\n",
       "}\n",
       "\n",
       "/* On hover */\n",
       "div.sk-estimator:hover .sk-estimator-doc-link:hover,\n",
       ".sk-estimator-doc-link:hover,\n",
       "div.sk-label-container:hover .sk-estimator-doc-link:hover,\n",
       ".sk-estimator-doc-link:hover {\n",
       "  /* unfitted */\n",
       "  background-color: var(--sklearn-color-unfitted-level-3);\n",
       "  color: var(--sklearn-color-background);\n",
       "  text-decoration: none;\n",
       "}\n",
       "\n",
       "div.sk-estimator.fitted:hover .sk-estimator-doc-link.fitted:hover,\n",
       ".sk-estimator-doc-link.fitted:hover,\n",
       "div.sk-label-container:hover .sk-estimator-doc-link.fitted:hover,\n",
       ".sk-estimator-doc-link.fitted:hover {\n",
       "  /* fitted */\n",
       "  background-color: var(--sklearn-color-fitted-level-3);\n",
       "  color: var(--sklearn-color-background);\n",
       "  text-decoration: none;\n",
       "}\n",
       "\n",
       "/* Span, style for the box shown on hovering the info icon */\n",
       ".sk-estimator-doc-link span {\n",
       "  display: none;\n",
       "  z-index: 9999;\n",
       "  position: relative;\n",
       "  font-weight: normal;\n",
       "  right: .2ex;\n",
       "  padding: .5ex;\n",
       "  margin: .5ex;\n",
       "  width: min-content;\n",
       "  min-width: 20ex;\n",
       "  max-width: 50ex;\n",
       "  color: var(--sklearn-color-text);\n",
       "  box-shadow: 2pt 2pt 4pt #999;\n",
       "  /* unfitted */\n",
       "  background: var(--sklearn-color-unfitted-level-0);\n",
       "  border: .5pt solid var(--sklearn-color-unfitted-level-3);\n",
       "}\n",
       "\n",
       ".sk-estimator-doc-link.fitted span {\n",
       "  /* fitted */\n",
       "  background: var(--sklearn-color-fitted-level-0);\n",
       "  border: var(--sklearn-color-fitted-level-3);\n",
       "}\n",
       "\n",
       ".sk-estimator-doc-link:hover span {\n",
       "  display: block;\n",
       "}\n",
       "\n",
       "/* \"?\"-specific style due to the `<a>` HTML tag */\n",
       "\n",
       "#sk-container-id-1 a.estimator_doc_link {\n",
       "  float: right;\n",
       "  font-size: 1rem;\n",
       "  line-height: 1em;\n",
       "  font-family: monospace;\n",
       "  background-color: var(--sklearn-color-background);\n",
       "  border-radius: 1rem;\n",
       "  height: 1rem;\n",
       "  width: 1rem;\n",
       "  text-decoration: none;\n",
       "  /* unfitted */\n",
       "  color: var(--sklearn-color-unfitted-level-1);\n",
       "  border: var(--sklearn-color-unfitted-level-1) 1pt solid;\n",
       "}\n",
       "\n",
       "#sk-container-id-1 a.estimator_doc_link.fitted {\n",
       "  /* fitted */\n",
       "  border: var(--sklearn-color-fitted-level-1) 1pt solid;\n",
       "  color: var(--sklearn-color-fitted-level-1);\n",
       "}\n",
       "\n",
       "/* On hover */\n",
       "#sk-container-id-1 a.estimator_doc_link:hover {\n",
       "  /* unfitted */\n",
       "  background-color: var(--sklearn-color-unfitted-level-3);\n",
       "  color: var(--sklearn-color-background);\n",
       "  text-decoration: none;\n",
       "}\n",
       "\n",
       "#sk-container-id-1 a.estimator_doc_link.fitted:hover {\n",
       "  /* fitted */\n",
       "  background-color: var(--sklearn-color-fitted-level-3);\n",
       "}\n",
       "</style><div id=\"sk-container-id-1\" class=\"sk-top-container\"><div class=\"sk-text-repr-fallback\"><pre>DecisionTreeClassifier()</pre><b>In a Jupyter environment, please rerun this cell to show the HTML representation or trust the notebook. <br />On GitHub, the HTML representation is unable to render, please try loading this page with nbviewer.org.</b></div><div class=\"sk-container\" hidden><div class=\"sk-item\"><div class=\"sk-estimator  sk-toggleable\"><input class=\"sk-toggleable__control sk-hidden--visually\" id=\"sk-estimator-id-1\" type=\"checkbox\" checked><label for=\"sk-estimator-id-1\" class=\"sk-toggleable__label  sk-toggleable__label-arrow \">&nbsp;&nbsp;DecisionTreeClassifier<a class=\"sk-estimator-doc-link \" rel=\"noreferrer\" target=\"_blank\" href=\"https://scikit-learn.org/1.5/modules/generated/sklearn.tree.DecisionTreeClassifier.html\">?<span>Documentation for DecisionTreeClassifier</span></a><span class=\"sk-estimator-doc-link \">i<span>Not fitted</span></span></label><div class=\"sk-toggleable__content \"><pre>DecisionTreeClassifier()</pre></div> </div></div></div></div>"
      ],
      "text/plain": [
       "DecisionTreeClassifier()"
      ]
     },
     "execution_count": 32,
     "metadata": {},
     "output_type": "execute_result"
    }
   ],
   "source": [
    "# Decision Tree\n",
    "from sklearn.tree import DecisionTreeClassifier\n",
    "DecisionTreeClassifier()"
   ]
  },
  {
   "cell_type": "code",
   "execution_count": 33,
   "metadata": {},
   "outputs": [
    {
     "name": "stdout",
     "output_type": "stream",
     "text": [
      "              precision    recall  f1-score   support\n",
      "\n",
      "           0       0.78      0.79      0.79       913\n",
      "           1       0.89      0.88      0.89      1672\n",
      "           2       1.00      1.00      1.00        43\n",
      "           3       1.00      1.00      1.00        16\n",
      "           4       0.79      0.92      0.85        52\n",
      "\n",
      "    accuracy                           0.85      2696\n",
      "   macro avg       0.89      0.92      0.90      2696\n",
      "weighted avg       0.86      0.85      0.85      2696\n",
      "\n"
     ]
    }
   ],
   "source": [
    "# Metrics Performance\n",
    "print(classification_report(y_test,y_pred))"
   ]
  },
  {
   "cell_type": "code",
   "execution_count": 34,
   "metadata": {},
   "outputs": [
    {
     "name": "stdout",
     "output_type": "stream",
     "text": [
      "[[ 723  177    0    0   13]\n",
      " [ 198 1474    0    0    0]\n",
      " [   0    0   43    0    0]\n",
      " [   0    0    0   16    0]\n",
      " [   3    1    0    0   48]]\n"
     ]
    }
   ],
   "source": [
    "print(confusion_matrix(y_test,y_pred))"
   ]
  },
  {
   "cell_type": "code",
   "execution_count": 35,
   "metadata": {},
   "outputs": [],
   "source": [
    "# Finding the variable with more importance\n",
    "feature_importance = pd.DataFrame([X_train.columns, dt_model.feature_importances_])\n",
    "feature_importance = feature_importance.T.sort_values(by = 1, ascending=False)[1:10]"
   ]
  },
  {
   "cell_type": "code",
   "execution_count": 36,
   "metadata": {},
   "outputs": [
    {
     "name": "stderr",
     "output_type": "stream",
     "text": [
      "C:\\Users\\casie\\AppData\\Local\\Temp\\ipykernel_72324\\1883666765.py:7: UserWarning: No artists with labels found to put in legend.  Note that artists whose label start with an underscore are ignored when legend() is called with no argument.\n",
      "  plt.legend()\n"
     ]
    },
    {
     "data": {
      "image/png": "[encoded data removed]",
      "text/plain": [
       "<Figure size 640x480 with 1 Axes>"
      ]
     },
     "metadata": {},
     "output_type": "display_data"
    }
   ],
   "source": [
    "import seaborn as sns\n",
    "sns.barplot(x=feature_importance[1], y=feature_importance[0])\n",
    "# Add labels to the graph\n",
    "plt.xlabel('Feature Importance Score')\n",
    "plt.ylabel('Features')\n",
    "plt.title(\"Visualizing Important Features\")\n",
    "plt.legend()\n",
    "plt.show()"
   ]
  },
  {
   "cell_type": "code",
   "execution_count": 37,
   "metadata": {},
   "outputs": [
    {
     "ename": "SyntaxError",
     "evalue": "invalid syntax. Perhaps you forgot a comma? (4084439538.py, line 2)",
     "output_type": "error",
     "traceback": [
      "\u001b[1;36m  Cell \u001b[1;32mIn[37], line 2\u001b[1;36m\u001b[0m\n\u001b[1;33m    1. No. of trees\u001b[0m\n\u001b[1;37m    ^\u001b[0m\n\u001b[1;31mSyntaxError\u001b[0m\u001b[1;31m:\u001b[0m invalid syntax. Perhaps you forgot a comma?\n"
     ]
    }
   ],
   "source": [
    "# Hyperparameter Tuning - Tree parameters\n",
    "1. No. of trees\n",
    "2. Depth of the trees\n",
    "3. Min no. of samples in the leaf node\n",
    "4. Max number of features\n",
    "5. Split Criterion "
   ]
  }
 ],
 "metadata": {
  "kernelspec": {
   "display_name": "Python 3",
   "language": "python",
   "name": "python3"
  },
  "language_info": {
   "codemirror_mode": {
    "name": "ipython",
    "version": 3
   },
   "file_extension": ".py",
   "mimetype": "text/x-python",
   "name": "python",
   "nbconvert_exporter": "python",
   "pygments_lexer": "ipython3",
   "version": "3.10.0"
  }
 },
 "nbformat": 4,
 "nbformat_minor": 4
}
