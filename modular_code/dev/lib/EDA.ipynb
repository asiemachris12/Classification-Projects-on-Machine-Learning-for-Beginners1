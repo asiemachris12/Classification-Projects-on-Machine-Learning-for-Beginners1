{
 "cells": [
  {
   "cell_type": "code",
   "execution_count": 1,
   "metadata": {},
   "outputs": [],
   "source": [
    "import pandas as pd\n",
    "import numpy as np\n",
    "import matplotlib.pyplot as plt\n",
    "%matplotlib inline\n",
    "import seaborn as sns"
   ]
  },
  {
   "cell_type": "code",
   "execution_count": 2,
   "metadata": {},
   "outputs": [
    {
     "name": "stderr",
     "output_type": "stream",
     "text": [
      "C:\\Users\\Stanley\\anaconda3\\envs\\projectpro\\lib\\site-packages\\IPython\\core\\interactiveshell.py:3165: DtypeWarning: Columns (9) have mixed types.Specify dtype option on import or set low_memory=False.\n",
      "  has_raised = await self.run_ast_nodes(code_ast.body, cell_name,\n"
     ]
    }
   ],
   "source": [
    "df = pd.read_csv(\"License_Data.csv\")"
   ]
  },
  {
   "cell_type": "code",
   "execution_count": 5,
   "metadata": {},
   "outputs": [
    {
     "name": "stdout",
     "output_type": "stream",
     "text": [
      "<class 'pandas.core.frame.DataFrame'>\n",
      "RangeIndex: 85895 entries, 0 to 85894\n",
      "Data columns (total 32 columns):\n",
      " #   Column                             Non-Null Count  Dtype  \n",
      "---  ------                             --------------  -----  \n",
      " 0   ID                                 85895 non-null  object \n",
      " 1   LICENSE ID                         85895 non-null  int64  \n",
      " 2   ACCOUNT NUMBER                     85895 non-null  int64  \n",
      " 3   SITE NUMBER                        85895 non-null  int64  \n",
      " 4   LEGAL NAME                         85895 non-null  object \n",
      " 5   DOING BUSINESS AS NAME             85894 non-null  object \n",
      " 6   ADDRESS                            85895 non-null  object \n",
      " 7   CITY                               85895 non-null  object \n",
      " 8   STATE                              85895 non-null  object \n",
      " 9   ZIP CODE                           85864 non-null  object \n",
      " 10  WARD                               36194 non-null  float64\n",
      " 11  PRECINCT                           29194 non-null  float64\n",
      " 12  WARD PRECINCT                      36195 non-null  object \n",
      " 13  POLICE DISTRICT                    31883 non-null  float64\n",
      " 14  LICENSE CODE                       85895 non-null  int64  \n",
      " 15  LICENSE DESCRIPTION                85895 non-null  object \n",
      " 16  LICENSE NUMBER                     85894 non-null  float64\n",
      " 17  APPLICATION TYPE                   85895 non-null  object \n",
      " 18  APPLICATION CREATED DATE           21235 non-null  object \n",
      " 19  APPLICATION REQUIREMENTS COMPLETE  85681 non-null  object \n",
      " 20  PAYMENT DATE                       84606 non-null  object \n",
      " 21  CONDITIONAL APPROVAL               85895 non-null  object \n",
      " 22  LICENSE TERM START DATE            85667 non-null  object \n",
      " 23  LICENSE TERM EXPIRATION DATE       85877 non-null  object \n",
      " 24  LICENSE APPROVED FOR ISSUANCE      79106 non-null  object \n",
      " 25  DATE ISSUED                        85895 non-null  object \n",
      " 26  LICENSE STATUS CHANGE DATE         30495 non-null  object \n",
      " 27  SSA                                9449 non-null   float64\n",
      " 28  LATITUDE                           38649 non-null  float64\n",
      " 29  LONGITUDE                          38649 non-null  float64\n",
      " 30  LOCATION                           38649 non-null  object \n",
      " 31  LICENSE STATUS                     85895 non-null  object \n",
      "dtypes: float64(7), int64(4), object(21)\n",
      "memory usage: 21.0+ MB\n"
     ]
    }
   ],
   "source": [
    "df.info()"
   ]
  },
  {
   "cell_type": "code",
   "execution_count": 3,
   "metadata": {},
   "outputs": [
    {
     "data": {
      "text/html": [
       "<div>\n",
       "<style scoped>\n",
       "    .dataframe tbody tr th:only-of-type {\n",
       "        vertical-align: middle;\n",
       "    }\n",
       "\n",
       "    .dataframe tbody tr th {\n",
       "        vertical-align: top;\n",
       "    }\n",
       "\n",
       "    .dataframe thead th {\n",
       "        text-align: right;\n",
       "    }\n",
       "</style>\n",
       "<table border=\"1\" class=\"dataframe\">\n",
       "  <thead>\n",
       "    <tr style=\"text-align: right;\">\n",
       "      <th></th>\n",
       "      <th>0</th>\n",
       "      <th>1</th>\n",
       "      <th>2</th>\n",
       "      <th>3</th>\n",
       "      <th>4</th>\n",
       "    </tr>\n",
       "  </thead>\n",
       "  <tbody>\n",
       "    <tr>\n",
       "      <th>ID</th>\n",
       "      <td>16570-20000216</td>\n",
       "      <td>25710-19960216</td>\n",
       "      <td>53383-20150316</td>\n",
       "      <td>1847540-20090116</td>\n",
       "      <td>50776-20040216</td>\n",
       "    </tr>\n",
       "    <tr>\n",
       "      <th>LICENSE ID</th>\n",
       "      <td>76522</td>\n",
       "      <td>119268</td>\n",
       "      <td>2375632</td>\n",
       "      <td>1940503</td>\n",
       "      <td>1458339</td>\n",
       "    </tr>\n",
       "    <tr>\n",
       "      <th>ACCOUNT NUMBER</th>\n",
       "      <td>51755</td>\n",
       "      <td>52896</td>\n",
       "      <td>38691</td>\n",
       "      <td>89020</td>\n",
       "      <td>56730</td>\n",
       "    </tr>\n",
       "    <tr>\n",
       "      <th>SITE NUMBER</th>\n",
       "      <td>1</td>\n",
       "      <td>1</td>\n",
       "      <td>1</td>\n",
       "      <td>45</td>\n",
       "      <td>1</td>\n",
       "    </tr>\n",
       "    <tr>\n",
       "      <th>LEGAL NAME</th>\n",
       "      <td>THORNDALE CONSTRUCTION</td>\n",
       "      <td>PAT HAMILTON, INC</td>\n",
       "      <td>MEE INC</td>\n",
       "      <td>FEDEX OFFICE AND PRINT SERVICES, INC.</td>\n",
       "      <td>FREDERICK MCGEE</td>\n",
       "    </tr>\n",
       "    <tr>\n",
       "      <th>DOING BUSINESS AS NAME</th>\n",
       "      <td>THORNDALE CONSTRUCTION</td>\n",
       "      <td>PAT HAMILTON CO.</td>\n",
       "      <td>MEE INC</td>\n",
       "      <td>FEDEX OFFICE AND PRINT SVCS, INC.</td>\n",
       "      <td>MCGEE'S REMODELING</td>\n",
       "    </tr>\n",
       "    <tr>\n",
       "      <th>ADDRESS</th>\n",
       "      <td>11243  CHESAPEAKE PLAC   1ST</td>\n",
       "      <td>17021 S MAGNOLIA DR  1ST</td>\n",
       "      <td>11845 W LARAWAY RD  1</td>\n",
       "      <td>2301 S DR MARTIN LUTHER KING JR DR  SOUTH BL</td>\n",
       "      <td>1009 S 11TH AVE  1</td>\n",
       "    </tr>\n",
       "    <tr>\n",
       "      <th>CITY</th>\n",
       "      <td>WESTCHESTER</td>\n",
       "      <td>HAZEL CREST</td>\n",
       "      <td>FRANKFORT</td>\n",
       "      <td>CHICAGO</td>\n",
       "      <td>MAYWOOD</td>\n",
       "    </tr>\n",
       "    <tr>\n",
       "      <th>STATE</th>\n",
       "      <td>IL</td>\n",
       "      <td>IL</td>\n",
       "      <td>IL</td>\n",
       "      <td>IL</td>\n",
       "      <td>IL</td>\n",
       "    </tr>\n",
       "    <tr>\n",
       "      <th>ZIP CODE</th>\n",
       "      <td>60154</td>\n",
       "      <td>60429</td>\n",
       "      <td>60423</td>\n",
       "      <td>60616</td>\n",
       "      <td>60153</td>\n",
       "    </tr>\n",
       "    <tr>\n",
       "      <th>WARD</th>\n",
       "      <td>NaN</td>\n",
       "      <td>NaN</td>\n",
       "      <td>NaN</td>\n",
       "      <td>4</td>\n",
       "      <td>NaN</td>\n",
       "    </tr>\n",
       "    <tr>\n",
       "      <th>PRECINCT</th>\n",
       "      <td>NaN</td>\n",
       "      <td>NaN</td>\n",
       "      <td>NaN</td>\n",
       "      <td>3</td>\n",
       "      <td>NaN</td>\n",
       "    </tr>\n",
       "    <tr>\n",
       "      <th>WARD PRECINCT</th>\n",
       "      <td>NaN</td>\n",
       "      <td>NaN</td>\n",
       "      <td>NaN</td>\n",
       "      <td>4-3</td>\n",
       "      <td>NaN</td>\n",
       "    </tr>\n",
       "    <tr>\n",
       "      <th>POLICE DISTRICT</th>\n",
       "      <td>NaN</td>\n",
       "      <td>NaN</td>\n",
       "      <td>NaN</td>\n",
       "      <td>1</td>\n",
       "      <td>NaN</td>\n",
       "    </tr>\n",
       "    <tr>\n",
       "      <th>LICENSE CODE</th>\n",
       "      <td>1010</td>\n",
       "      <td>1010</td>\n",
       "      <td>1010</td>\n",
       "      <td>1010</td>\n",
       "      <td>1011</td>\n",
       "    </tr>\n",
       "    <tr>\n",
       "      <th>LICENSE DESCRIPTION</th>\n",
       "      <td>Limited Business License</td>\n",
       "      <td>Limited Business License</td>\n",
       "      <td>Limited Business License</td>\n",
       "      <td>Limited Business License</td>\n",
       "      <td>Home Repair</td>\n",
       "    </tr>\n",
       "    <tr>\n",
       "      <th>BUSINESS ACTIVITY ID</th>\n",
       "      <td>NaN</td>\n",
       "      <td>NaN</td>\n",
       "      <td>NaN</td>\n",
       "      <td>NaN</td>\n",
       "      <td>NaN</td>\n",
       "    </tr>\n",
       "    <tr>\n",
       "      <th>BUSINESS ACTIVITY</th>\n",
       "      <td>NaN</td>\n",
       "      <td>NaN</td>\n",
       "      <td>NaN</td>\n",
       "      <td>NaN</td>\n",
       "      <td>NaN</td>\n",
       "    </tr>\n",
       "    <tr>\n",
       "      <th>LICENSE NUMBER</th>\n",
       "      <td>16570</td>\n",
       "      <td>25710</td>\n",
       "      <td>53383</td>\n",
       "      <td>1.84754e+06</td>\n",
       "      <td>50776</td>\n",
       "    </tr>\n",
       "    <tr>\n",
       "      <th>APPLICATION TYPE</th>\n",
       "      <td>RENEW</td>\n",
       "      <td>ISSUE</td>\n",
       "      <td>RENEW</td>\n",
       "      <td>RENEW</td>\n",
       "      <td>RENEW</td>\n",
       "    </tr>\n",
       "    <tr>\n",
       "      <th>APPLICATION CREATED DATE</th>\n",
       "      <td>NaN</td>\n",
       "      <td>NaN</td>\n",
       "      <td>NaN</td>\n",
       "      <td>NaN</td>\n",
       "      <td>NaN</td>\n",
       "    </tr>\n",
       "    <tr>\n",
       "      <th>APPLICATION REQUIREMENTS COMPLETE</th>\n",
       "      <td>06/16/2000</td>\n",
       "      <td>06/20/2000</td>\n",
       "      <td>01/16/2015</td>\n",
       "      <td>11/14/2008</td>\n",
       "      <td>12/15/2003</td>\n",
       "    </tr>\n",
       "    <tr>\n",
       "      <th>PAYMENT DATE</th>\n",
       "      <td>08/21/2009</td>\n",
       "      <td>NaN</td>\n",
       "      <td>03/12/2015</td>\n",
       "      <td>01/08/2009</td>\n",
       "      <td>02/26/2004</td>\n",
       "    </tr>\n",
       "    <tr>\n",
       "      <th>CONDITIONAL APPROVAL</th>\n",
       "      <td>N</td>\n",
       "      <td>N</td>\n",
       "      <td>N</td>\n",
       "      <td>N</td>\n",
       "      <td>N</td>\n",
       "    </tr>\n",
       "    <tr>\n",
       "      <th>LICENSE TERM START DATE</th>\n",
       "      <td>02/16/2000</td>\n",
       "      <td>02/16/1996</td>\n",
       "      <td>03/16/2015</td>\n",
       "      <td>01/16/2009</td>\n",
       "      <td>02/16/2004</td>\n",
       "    </tr>\n",
       "    <tr>\n",
       "      <th>LICENSE TERM EXPIRATION DATE</th>\n",
       "      <td>02/15/2001</td>\n",
       "      <td>02/15/1997</td>\n",
       "      <td>03/15/2017</td>\n",
       "      <td>01/15/2011</td>\n",
       "      <td>02/15/2005</td>\n",
       "    </tr>\n",
       "    <tr>\n",
       "      <th>LICENSE APPROVED FOR ISSUANCE</th>\n",
       "      <td>12/22/2003</td>\n",
       "      <td>12/22/2003</td>\n",
       "      <td>03/12/2015</td>\n",
       "      <td>01/08/2009</td>\n",
       "      <td>12/22/2003</td>\n",
       "    </tr>\n",
       "    <tr>\n",
       "      <th>DATE ISSUED</th>\n",
       "      <td>08/24/2009</td>\n",
       "      <td>04/12/2006</td>\n",
       "      <td>03/13/2015</td>\n",
       "      <td>01/22/2009</td>\n",
       "      <td>11/24/2008</td>\n",
       "    </tr>\n",
       "    <tr>\n",
       "      <th>LICENSE STATUS</th>\n",
       "      <td>AAI</td>\n",
       "      <td>AAI</td>\n",
       "      <td>AAI</td>\n",
       "      <td>AAI</td>\n",
       "      <td>AAI</td>\n",
       "    </tr>\n",
       "    <tr>\n",
       "      <th>LICENSE STATUS CHANGE DATE</th>\n",
       "      <td>NaN</td>\n",
       "      <td>NaN</td>\n",
       "      <td>NaN</td>\n",
       "      <td>NaN</td>\n",
       "      <td>NaN</td>\n",
       "    </tr>\n",
       "    <tr>\n",
       "      <th>SSA</th>\n",
       "      <td>NaN</td>\n",
       "      <td>NaN</td>\n",
       "      <td>NaN</td>\n",
       "      <td>NaN</td>\n",
       "      <td>NaN</td>\n",
       "    </tr>\n",
       "    <tr>\n",
       "      <th>LATITUDE</th>\n",
       "      <td>NaN</td>\n",
       "      <td>NaN</td>\n",
       "      <td>NaN</td>\n",
       "      <td>NaN</td>\n",
       "      <td>NaN</td>\n",
       "    </tr>\n",
       "    <tr>\n",
       "      <th>LONGITUDE</th>\n",
       "      <td>NaN</td>\n",
       "      <td>NaN</td>\n",
       "      <td>NaN</td>\n",
       "      <td>NaN</td>\n",
       "      <td>NaN</td>\n",
       "    </tr>\n",
       "    <tr>\n",
       "      <th>LOCATION</th>\n",
       "      <td>NaN</td>\n",
       "      <td>NaN</td>\n",
       "      <td>NaN</td>\n",
       "      <td>NaN</td>\n",
       "      <td>NaN</td>\n",
       "    </tr>\n",
       "  </tbody>\n",
       "</table>\n",
       "</div>"
      ],
      "text/plain": [
       "                                                              0  \\\n",
       "ID                                               16570-20000216   \n",
       "LICENSE ID                                                76522   \n",
       "ACCOUNT NUMBER                                            51755   \n",
       "SITE NUMBER                                                   1   \n",
       "LEGAL NAME                               THORNDALE CONSTRUCTION   \n",
       "DOING BUSINESS AS NAME                   THORNDALE CONSTRUCTION   \n",
       "ADDRESS                            11243  CHESAPEAKE PLAC   1ST   \n",
       "CITY                                                WESTCHESTER   \n",
       "STATE                                                        IL   \n",
       "ZIP CODE                                                  60154   \n",
       "WARD                                                        NaN   \n",
       "PRECINCT                                                    NaN   \n",
       "WARD PRECINCT                                               NaN   \n",
       "POLICE DISTRICT                                             NaN   \n",
       "LICENSE CODE                                               1010   \n",
       "LICENSE DESCRIPTION                    Limited Business License   \n",
       "BUSINESS ACTIVITY ID                                        NaN   \n",
       "BUSINESS ACTIVITY                                           NaN   \n",
       "LICENSE NUMBER                                            16570   \n",
       "APPLICATION TYPE                                          RENEW   \n",
       "APPLICATION CREATED DATE                                    NaN   \n",
       "APPLICATION REQUIREMENTS COMPLETE                    06/16/2000   \n",
       "PAYMENT DATE                                         08/21/2009   \n",
       "CONDITIONAL APPROVAL                                          N   \n",
       "LICENSE TERM START DATE                              02/16/2000   \n",
       "LICENSE TERM EXPIRATION DATE                         02/15/2001   \n",
       "LICENSE APPROVED FOR ISSUANCE                        12/22/2003   \n",
       "DATE ISSUED                                          08/24/2009   \n",
       "LICENSE STATUS                                              AAI   \n",
       "LICENSE STATUS CHANGE DATE                                  NaN   \n",
       "SSA                                                         NaN   \n",
       "LATITUDE                                                    NaN   \n",
       "LONGITUDE                                                   NaN   \n",
       "LOCATION                                                    NaN   \n",
       "\n",
       "                                                          1  \\\n",
       "ID                                           25710-19960216   \n",
       "LICENSE ID                                           119268   \n",
       "ACCOUNT NUMBER                                        52896   \n",
       "SITE NUMBER                                               1   \n",
       "LEGAL NAME                                PAT HAMILTON, INC   \n",
       "DOING BUSINESS AS NAME                     PAT HAMILTON CO.   \n",
       "ADDRESS                            17021 S MAGNOLIA DR  1ST   \n",
       "CITY                                            HAZEL CREST   \n",
       "STATE                                                    IL   \n",
       "ZIP CODE                                              60429   \n",
       "WARD                                                    NaN   \n",
       "PRECINCT                                                NaN   \n",
       "WARD PRECINCT                                           NaN   \n",
       "POLICE DISTRICT                                         NaN   \n",
       "LICENSE CODE                                           1010   \n",
       "LICENSE DESCRIPTION                Limited Business License   \n",
       "BUSINESS ACTIVITY ID                                    NaN   \n",
       "BUSINESS ACTIVITY                                       NaN   \n",
       "LICENSE NUMBER                                        25710   \n",
       "APPLICATION TYPE                                      ISSUE   \n",
       "APPLICATION CREATED DATE                                NaN   \n",
       "APPLICATION REQUIREMENTS COMPLETE                06/20/2000   \n",
       "PAYMENT DATE                                            NaN   \n",
       "CONDITIONAL APPROVAL                                      N   \n",
       "LICENSE TERM START DATE                          02/16/1996   \n",
       "LICENSE TERM EXPIRATION DATE                     02/15/1997   \n",
       "LICENSE APPROVED FOR ISSUANCE                    12/22/2003   \n",
       "DATE ISSUED                                      04/12/2006   \n",
       "LICENSE STATUS                                          AAI   \n",
       "LICENSE STATUS CHANGE DATE                              NaN   \n",
       "SSA                                                     NaN   \n",
       "LATITUDE                                                NaN   \n",
       "LONGITUDE                                               NaN   \n",
       "LOCATION                                                NaN   \n",
       "\n",
       "                                                          2  \\\n",
       "ID                                           53383-20150316   \n",
       "LICENSE ID                                          2375632   \n",
       "ACCOUNT NUMBER                                        38691   \n",
       "SITE NUMBER                                               1   \n",
       "LEGAL NAME                                          MEE INC   \n",
       "DOING BUSINESS AS NAME                              MEE INC   \n",
       "ADDRESS                               11845 W LARAWAY RD  1   \n",
       "CITY                                              FRANKFORT   \n",
       "STATE                                                    IL   \n",
       "ZIP CODE                                              60423   \n",
       "WARD                                                    NaN   \n",
       "PRECINCT                                                NaN   \n",
       "WARD PRECINCT                                           NaN   \n",
       "POLICE DISTRICT                                         NaN   \n",
       "LICENSE CODE                                           1010   \n",
       "LICENSE DESCRIPTION                Limited Business License   \n",
       "BUSINESS ACTIVITY ID                                    NaN   \n",
       "BUSINESS ACTIVITY                                       NaN   \n",
       "LICENSE NUMBER                                        53383   \n",
       "APPLICATION TYPE                                      RENEW   \n",
       "APPLICATION CREATED DATE                                NaN   \n",
       "APPLICATION REQUIREMENTS COMPLETE                01/16/2015   \n",
       "PAYMENT DATE                                     03/12/2015   \n",
       "CONDITIONAL APPROVAL                                      N   \n",
       "LICENSE TERM START DATE                          03/16/2015   \n",
       "LICENSE TERM EXPIRATION DATE                     03/15/2017   \n",
       "LICENSE APPROVED FOR ISSUANCE                    03/12/2015   \n",
       "DATE ISSUED                                      03/13/2015   \n",
       "LICENSE STATUS                                          AAI   \n",
       "LICENSE STATUS CHANGE DATE                              NaN   \n",
       "SSA                                                     NaN   \n",
       "LATITUDE                                                NaN   \n",
       "LONGITUDE                                               NaN   \n",
       "LOCATION                                                NaN   \n",
       "\n",
       "                                                                              3  \\\n",
       "ID                                                             1847540-20090116   \n",
       "LICENSE ID                                                              1940503   \n",
       "ACCOUNT NUMBER                                                            89020   \n",
       "SITE NUMBER                                                                  45   \n",
       "LEGAL NAME                                FEDEX OFFICE AND PRINT SERVICES, INC.   \n",
       "DOING BUSINESS AS NAME                        FEDEX OFFICE AND PRINT SVCS, INC.   \n",
       "ADDRESS                            2301 S DR MARTIN LUTHER KING JR DR  SOUTH BL   \n",
       "CITY                                                                    CHICAGO   \n",
       "STATE                                                                        IL   \n",
       "ZIP CODE                                                                  60616   \n",
       "WARD                                                                          4   \n",
       "PRECINCT                                                                      3   \n",
       "WARD PRECINCT                                                               4-3   \n",
       "POLICE DISTRICT                                                               1   \n",
       "LICENSE CODE                                                               1010   \n",
       "LICENSE DESCRIPTION                                    Limited Business License   \n",
       "BUSINESS ACTIVITY ID                                                        NaN   \n",
       "BUSINESS ACTIVITY                                                           NaN   \n",
       "LICENSE NUMBER                                                      1.84754e+06   \n",
       "APPLICATION TYPE                                                          RENEW   \n",
       "APPLICATION CREATED DATE                                                    NaN   \n",
       "APPLICATION REQUIREMENTS COMPLETE                                    11/14/2008   \n",
       "PAYMENT DATE                                                         01/08/2009   \n",
       "CONDITIONAL APPROVAL                                                          N   \n",
       "LICENSE TERM START DATE                                              01/16/2009   \n",
       "LICENSE TERM EXPIRATION DATE                                         01/15/2011   \n",
       "LICENSE APPROVED FOR ISSUANCE                                        01/08/2009   \n",
       "DATE ISSUED                                                          01/22/2009   \n",
       "LICENSE STATUS                                                              AAI   \n",
       "LICENSE STATUS CHANGE DATE                                                  NaN   \n",
       "SSA                                                                         NaN   \n",
       "LATITUDE                                                                    NaN   \n",
       "LONGITUDE                                                                   NaN   \n",
       "LOCATION                                                                    NaN   \n",
       "\n",
       "                                                    4  \n",
       "ID                                     50776-20040216  \n",
       "LICENSE ID                                    1458339  \n",
       "ACCOUNT NUMBER                                  56730  \n",
       "SITE NUMBER                                         1  \n",
       "LEGAL NAME                            FREDERICK MCGEE  \n",
       "DOING BUSINESS AS NAME             MCGEE'S REMODELING  \n",
       "ADDRESS                            1009 S 11TH AVE  1  \n",
       "CITY                                          MAYWOOD  \n",
       "STATE                                              IL  \n",
       "ZIP CODE                                        60153  \n",
       "WARD                                              NaN  \n",
       "PRECINCT                                          NaN  \n",
       "WARD PRECINCT                                     NaN  \n",
       "POLICE DISTRICT                                   NaN  \n",
       "LICENSE CODE                                     1011  \n",
       "LICENSE DESCRIPTION                       Home Repair  \n",
       "BUSINESS ACTIVITY ID                              NaN  \n",
       "BUSINESS ACTIVITY                                 NaN  \n",
       "LICENSE NUMBER                                  50776  \n",
       "APPLICATION TYPE                                RENEW  \n",
       "APPLICATION CREATED DATE                          NaN  \n",
       "APPLICATION REQUIREMENTS COMPLETE          12/15/2003  \n",
       "PAYMENT DATE                               02/26/2004  \n",
       "CONDITIONAL APPROVAL                                N  \n",
       "LICENSE TERM START DATE                    02/16/2004  \n",
       "LICENSE TERM EXPIRATION DATE               02/15/2005  \n",
       "LICENSE APPROVED FOR ISSUANCE              12/22/2003  \n",
       "DATE ISSUED                                11/24/2008  \n",
       "LICENSE STATUS                                    AAI  \n",
       "LICENSE STATUS CHANGE DATE                        NaN  \n",
       "SSA                                               NaN  \n",
       "LATITUDE                                          NaN  \n",
       "LONGITUDE                                         NaN  \n",
       "LOCATION                                          NaN  "
      ]
     },
     "execution_count": 3,
     "metadata": {},
     "output_type": "execute_result"
    }
   ],
   "source": [
    "df.head().T"
   ]
  },
  {
   "cell_type": "code",
   "execution_count": 3,
   "metadata": {},
   "outputs": [
    {
     "data": {
      "text/plain": [
       "AAI    55400\n",
       "AAC    30200\n",
       "REV      290\n",
       "REA        3\n",
       "INQ        2\n",
       "Name: LICENSE STATUS, dtype: int64"
      ]
     },
     "execution_count": 3,
     "metadata": {},
     "output_type": "execute_result"
    }
   ],
   "source": [
    "df[\"LICENSE STATUS\"].value_counts()"
   ]
  },
  {
   "cell_type": "code",
   "execution_count": 6,
   "metadata": {},
   "outputs": [],
   "source": [
    "# change the columns name\n",
    "new_col_name = [col.replace(\" \",\"_\").lower() for col in df.columns]\n",
    "df.columns = new_col_name"
   ]
  },
  {
   "cell_type": "code",
   "execution_count": 9,
   "metadata": {},
   "outputs": [
    {
     "data": {
      "text/plain": [
       "Index(['id', 'license_id', 'account_number', 'site_number', 'legal_name',\n",
       "       'doing_business_as_name', 'address', 'city', 'state', 'zip_code',\n",
       "       'ward', 'precinct', 'ward_precinct', 'police_district', 'license_code',\n",
       "       'license_description', 'license_number', 'application_type',\n",
       "       'application_created_date', 'application_requirements_complete',\n",
       "       'payment_date', 'conditional_approval', 'license_term_start_date',\n",
       "       'license_term_expiration_date', 'license_approved_for_issuance',\n",
       "       'date_issued', 'license_status_change_date', 'ssa', 'latitude',\n",
       "       'longitude', 'location', 'license_status'],\n",
       "      dtype='object')"
      ]
     },
     "execution_count": 9,
     "metadata": {},
     "output_type": "execute_result"
    }
   ],
   "source": [
    "df.columns"
   ]
  },
  {
   "cell_type": "code",
   "execution_count": 10,
   "metadata": {},
   "outputs": [
    {
     "data": {
      "text/plain": [
       "Limited Business License                    50078\n",
       "Home Repair                                 10633\n",
       "Peddler, non-food                            2812\n",
       "Home Occupation                              2809\n",
       "Retail Food Establishment                    2321\n",
       "                                            ...  \n",
       "Airport Pushcart Liquor O'Hare - Class A        1\n",
       "Caterer's Registration (Liquor)                 1\n",
       "Affiliation                                     1\n",
       "Indoor Special Event                            1\n",
       "Motor Vehicle Services License                  1\n",
       "Name: license_description, Length: 106, dtype: int64"
      ]
     },
     "execution_count": 10,
     "metadata": {},
     "output_type": "execute_result"
    }
   ],
   "source": [
    "df[\"license_description\"].value_counts()"
   ]
  },
  {
   "cell_type": "code",
   "execution_count": 16,
   "metadata": {},
   "outputs": [
    {
     "data": {
      "text/plain": [
       "Limited Business License             0.583014\n",
       "Home Repair                          0.123791\n",
       "Peddler, non-food                    0.032738\n",
       "Home Occupation                      0.032703\n",
       "Retail Food Establishment            0.027021\n",
       "Massage Therapist                    0.022725\n",
       "Street Performer                     0.021992\n",
       "Scavenger, Private                   0.018034\n",
       "Hazardous Materials                  0.013109\n",
       "Residential Real Estate Developer    0.012655\n",
       "Name: license_description, dtype: float64"
      ]
     },
     "execution_count": 16,
     "metadata": {},
     "output_type": "execute_result"
    }
   ],
   "source": [
    "df.license_description.value_counts(normalize=True)[:10]"
   ]
  },
  {
   "cell_type": "markdown",
   "metadata": {},
   "source": [
    "### Univariate Analysis"
   ]
  },
  {
   "cell_type": "code",
   "execution_count": 50,
   "metadata": {},
   "outputs": [
    {
     "data": {
      "image/png": "[encoded data removed]",
      "text/plain": [
       "<Figure size 432x288 with 1 Axes>"
      ]
     },
     "metadata": {
      "needs_background": "light"
     },
     "output_type": "display_data"
    }
   ],
   "source": [
    "# Let's calculate the percentage of each job status category.\n",
    "df.license_description.value_counts(normalize=True)\n",
    "#plot the bar graph of percentage job categories\n",
    "df.license_description.value_counts(normalize=True)[:10].plot.barh()\n",
    "plt.show()"
   ]
  },
  {
   "cell_type": "code",
   "execution_count": 24,
   "metadata": {},
   "outputs": [
    {
     "name": "stderr",
     "output_type": "stream",
     "text": [
      "C:\\Users\\Stanley\\anaconda3\\envs\\projectpro\\lib\\site-packages\\seaborn\\distributions.py:2557: FutureWarning: `distplot` is a deprecated function and will be removed in a future version. Please adapt your code to use either `displot` (a figure-level function with similar flexibility) or `histplot` (an axes-level function for histograms).\n",
      "  warnings.warn(msg, FutureWarning)\n"
     ]
    },
    {
     "data": {
      "text/plain": [
       "<AxesSubplot:xlabel='latitude', ylabel='Density'>"
      ]
     },
     "execution_count": 24,
     "metadata": {},
     "output_type": "execute_result"
    },
    {
     "data": {
      "image/png": "[encoded data removed]",
      "text/plain": [
       "<Figure size 432x288 with 1 Axes>"
      ]
     },
     "metadata": {
      "needs_background": "light"
     },
     "output_type": "display_data"
    }
   ],
   "source": [
    "sns.distplot(df['latitude'], color='g', bins=100, hist_kws={'alpha': 0.4})"
   ]
  },
  {
   "cell_type": "code",
   "execution_count": 25,
   "metadata": {},
   "outputs": [
    {
     "name": "stderr",
     "output_type": "stream",
     "text": [
      "C:\\Users\\Stanley\\anaconda3\\envs\\projectpro\\lib\\site-packages\\seaborn\\distributions.py:2557: FutureWarning: `distplot` is a deprecated function and will be removed in a future version. Please adapt your code to use either `displot` (a figure-level function with similar flexibility) or `histplot` (an axes-level function for histograms).\n",
      "  warnings.warn(msg, FutureWarning)\n"
     ]
    },
    {
     "data": {
      "text/plain": [
       "<AxesSubplot:xlabel='longitude', ylabel='Density'>"
      ]
     },
     "execution_count": 25,
     "metadata": {},
     "output_type": "execute_result"
    },
    {
     "data": {
      "image/png": "[encoded data removed]",
      "text/plain": [
       "<Figure size 432x288 with 1 Axes>"
      ]
     },
     "metadata": {
      "needs_background": "light"
     },
     "output_type": "display_data"
    }
   ],
   "source": [
    "sns.distplot(df['longitude'], color='g', bins=100, hist_kws={'alpha': 0.4})"
   ]
  },
  {
   "cell_type": "markdown",
   "metadata": {},
   "source": [
    "### Bivariate Analysis"
   ]
  },
  {
   "cell_type": "code",
   "execution_count": 48,
   "metadata": {},
   "outputs": [
    {
     "data": {
      "image/png": "[encoded data removed]",
      "text/plain": [
       "<Figure size 432x288 with 1 Axes>"
      ]
     },
     "metadata": {
      "needs_background": "light"
     },
     "output_type": "display_data"
    }
   ],
   "source": [
    "sdf = df[[\"longitude\",\"latitude\",\"license_status\"]]\n",
    "groups = sdf.groupby('license_status')\n",
    "\n",
    "# Plot\n",
    "fig, ax = plt.subplots()\n",
    "ax.margins(0.05) # Optional, just adds 5% padding to the autoscaling\n",
    "for name, group in groups:\n",
    "    ax.plot(group.longitude, group.latitude, marker='o', linestyle='', ms=1, label=name)\n",
    "ax.legend()\n",
    "\n",
    "plt.show()"
   ]
  },
  {
   "cell_type": "code",
   "execution_count": 59,
   "metadata": {},
   "outputs": [
    {
     "data": {
      "text/html": [
       "<div>\n",
       "<style scoped>\n",
       "    .dataframe tbody tr th:only-of-type {\n",
       "        vertical-align: middle;\n",
       "    }\n",
       "\n",
       "    .dataframe tbody tr th {\n",
       "        vertical-align: top;\n",
       "    }\n",
       "\n",
       "    .dataframe thead th {\n",
       "        text-align: right;\n",
       "    }\n",
       "</style>\n",
       "<table border=\"1\" class=\"dataframe\">\n",
       "  <thead>\n",
       "    <tr style=\"text-align: right;\">\n",
       "      <th>application_type</th>\n",
       "      <th>license_status</th>\n",
       "      <th>C_CAPA</th>\n",
       "      <th>C_EXPA</th>\n",
       "      <th>C_LOC</th>\n",
       "      <th>ISSUE</th>\n",
       "      <th>RENEW</th>\n",
       "    </tr>\n",
       "  </thead>\n",
       "  <tbody>\n",
       "    <tr>\n",
       "      <th>0</th>\n",
       "      <td>AAC</td>\n",
       "      <td>7</td>\n",
       "      <td>3</td>\n",
       "      <td>287</td>\n",
       "      <td>7916</td>\n",
       "      <td>21987</td>\n",
       "    </tr>\n",
       "    <tr>\n",
       "      <th>1</th>\n",
       "      <td>AAI</td>\n",
       "      <td>0</td>\n",
       "      <td>0</td>\n",
       "      <td>1112</td>\n",
       "      <td>15425</td>\n",
       "      <td>38863</td>\n",
       "    </tr>\n",
       "    <tr>\n",
       "      <th>2</th>\n",
       "      <td>INQ</td>\n",
       "      <td>0</td>\n",
       "      <td>0</td>\n",
       "      <td>0</td>\n",
       "      <td>2</td>\n",
       "      <td>0</td>\n",
       "    </tr>\n",
       "    <tr>\n",
       "      <th>3</th>\n",
       "      <td>REA</td>\n",
       "      <td>0</td>\n",
       "      <td>0</td>\n",
       "      <td>0</td>\n",
       "      <td>0</td>\n",
       "      <td>3</td>\n",
       "    </tr>\n",
       "    <tr>\n",
       "      <th>4</th>\n",
       "      <td>REV</td>\n",
       "      <td>0</td>\n",
       "      <td>2</td>\n",
       "      <td>1</td>\n",
       "      <td>55</td>\n",
       "      <td>232</td>\n",
       "    </tr>\n",
       "  </tbody>\n",
       "</table>\n",
       "</div>"
      ],
      "text/plain": [
       "application_type license_status  C_CAPA  C_EXPA  C_LOC  ISSUE  RENEW\n",
       "0                           AAC       7       3    287   7916  21987\n",
       "1                           AAI       0       0   1112  15425  38863\n",
       "2                           INQ       0       0      0      2      0\n",
       "3                           REA       0       0      0      0      3\n",
       "4                           REV       0       2      1     55    232"
      ]
     },
     "execution_count": 59,
     "metadata": {},
     "output_type": "execute_result"
    }
   ],
   "source": [
    "pd.crosstab(df[\"license_status\"],df[\"application_type\"]).reset_index()"
   ]
  },
  {
   "cell_type": "code",
   "execution_count": 58,
   "metadata": {},
   "outputs": [
    {
     "data": {
      "text/plain": [
       "Index(['C_CAPA', 'C_EXPA', 'C_LOC', 'ISSUE', 'RENEW'], dtype='object', name='application_type')"
      ]
     },
     "execution_count": 58,
     "metadata": {},
     "output_type": "execute_result"
    }
   ],
   "source": [
    "pd.crosstab(df[\"license_status\"],df[\"application_type\"]).columns"
   ]
  },
  {
   "cell_type": "code",
   "execution_count": 64,
   "metadata": {},
   "outputs": [
    {
     "data": {
      "text/plain": [
       "<AxesSubplot:title={'center':'Application Type vs License Status'}, xlabel='license_status'>"
      ]
     },
     "execution_count": 64,
     "metadata": {},
     "output_type": "execute_result"
    },
    {
     "data": {
      "image/png": "[encoded data removed]",
      "text/plain": [
       "<Figure size 432x288 with 1 Axes>"
      ]
     },
     "metadata": {
      "needs_background": "light"
     },
     "output_type": "display_data"
    }
   ],
   "source": [
    "pd.crosstab(df[\"license_status\"],df[\"application_type\"]).reset_index().plot(x='license_status', kind='bar', stacked=True,\n",
    "        title='Application Type vs License Status')"
   ]
  },
  {
   "cell_type": "code",
   "execution_count": 62,
   "metadata": {},
   "outputs": [
    {
     "data": {
      "text/html": [
       "<div>\n",
       "<style scoped>\n",
       "    .dataframe tbody tr th:only-of-type {\n",
       "        vertical-align: middle;\n",
       "    }\n",
       "\n",
       "    .dataframe tbody tr th {\n",
       "        vertical-align: top;\n",
       "    }\n",
       "\n",
       "    .dataframe thead th {\n",
       "        text-align: right;\n",
       "    }\n",
       "</style>\n",
       "<table border=\"1\" class=\"dataframe\">\n",
       "  <thead>\n",
       "    <tr style=\"text-align: right;\">\n",
       "      <th>conditional_approval</th>\n",
       "      <th>N</th>\n",
       "      <th>Y</th>\n",
       "    </tr>\n",
       "    <tr>\n",
       "      <th>license_status</th>\n",
       "      <th></th>\n",
       "      <th></th>\n",
       "    </tr>\n",
       "  </thead>\n",
       "  <tbody>\n",
       "    <tr>\n",
       "      <th>AAC</th>\n",
       "      <td>30182</td>\n",
       "      <td>18</td>\n",
       "    </tr>\n",
       "    <tr>\n",
       "      <th>AAI</th>\n",
       "      <td>55400</td>\n",
       "      <td>0</td>\n",
       "    </tr>\n",
       "    <tr>\n",
       "      <th>INQ</th>\n",
       "      <td>2</td>\n",
       "      <td>0</td>\n",
       "    </tr>\n",
       "    <tr>\n",
       "      <th>REA</th>\n",
       "      <td>3</td>\n",
       "      <td>0</td>\n",
       "    </tr>\n",
       "    <tr>\n",
       "      <th>REV</th>\n",
       "      <td>290</td>\n",
       "      <td>0</td>\n",
       "    </tr>\n",
       "  </tbody>\n",
       "</table>\n",
       "</div>"
      ],
      "text/plain": [
       "conditional_approval      N   Y\n",
       "license_status                 \n",
       "AAC                   30182  18\n",
       "AAI                   55400   0\n",
       "INQ                       2   0\n",
       "REA                       3   0\n",
       "REV                     290   0"
      ]
     },
     "execution_count": 62,
     "metadata": {},
     "output_type": "execute_result"
    }
   ],
   "source": [
    "pd.crosstab(df[\"license_status\"],df[\"conditional_approval\"])"
   ]
  },
  {
   "cell_type": "markdown",
   "metadata": {},
   "source": [
    "### Outlier Detection "
   ]
  },
  {
   "cell_type": "code",
   "execution_count": 32,
   "metadata": {},
   "outputs": [
    {
     "name": "stderr",
     "output_type": "stream",
     "text": [
      "C:\\Users\\Stanley\\anaconda3\\envs\\projectpro\\lib\\site-packages\\seaborn\\distributions.py:2557: FutureWarning: `distplot` is a deprecated function and will be removed in a future version. Please adapt your code to use either `displot` (a figure-level function with similar flexibility) or `histplot` (an axes-level function for histograms).\n",
      "  warnings.warn(msg, FutureWarning)\n"
     ]
    },
    {
     "data": {
      "text/plain": [
       "<AxesSubplot:xlabel='precinct', ylabel='Density'>"
      ]
     },
     "execution_count": 32,
     "metadata": {},
     "output_type": "execute_result"
    },
    {
     "data": {
      "image/png": "[encoded data removed]",
      "text/plain": [
       "<Figure size 432x288 with 1 Axes>"
      ]
     },
     "metadata": {
      "needs_background": "light"
     },
     "output_type": "display_data"
    }
   ],
   "source": [
    "sns.distplot(df['precinct'], color='g', bins=100, hist_kws={'alpha': 0.4})"
   ]
  },
  {
   "cell_type": "markdown",
   "metadata": {},
   "source": [
    "#### Box Plot"
   ]
  },
  {
   "cell_type": "code",
   "execution_count": 11,
   "metadata": {},
   "outputs": [
    {
     "data": {
      "image/png": "[encoded data removed]",
      "text/plain": [
       "<Figure size 1080x1440 with 14 Axes>"
      ]
     },
     "metadata": {
      "needs_background": "light"
     },
     "output_type": "display_data"
    }
   ],
   "source": [
    "df[[\"precinct\",\"police_district\",\"longitude\"]].plot(kind=\"box\",subplots=True,layout=(7,2),figsize=(15,20));"
   ]
  },
  {
   "cell_type": "markdown",
   "metadata": {},
   "source": [
    "### Inter Quartile Range\n",
    "IQR = 75th percentile - 25th percentile <br>\n",
    "<br>\n",
    "Lower Bound = q1–1.5*IQR <br>\n",
    "Upper Bound = q3+1.5*IQR <br>"
   ]
  },
  {
   "cell_type": "code",
   "execution_count": 23,
   "metadata": {},
   "outputs": [],
   "source": [
    "#FUNCTION TO IDENTIFY OUTLIERS USING IQR METHOD\n",
    "def iqr(col):\n",
    "    q1 = col.quantile(0.25)\n",
    "    q3 = col.quantile(0.75)\n",
    "    iqr = q3 - q1\n",
    "    min_ = q1 - 1.5 * iqr\n",
    "    max_ = q3 + 1.5 * iqr\n",
    "    return col[((col < min_) | (col > max_))]"
   ]
  },
  {
   "cell_type": "code",
   "execution_count": 29,
   "metadata": {},
   "outputs": [
    {
     "data": {
      "text/plain": [
       "9        999.0\n",
       "33       999.0\n",
       "70       999.0\n",
       "215      999.0\n",
       "347      999.0\n",
       "         ...  \n",
       "85117    999.0\n",
       "85279    999.0\n",
       "85718    999.0\n",
       "85781    999.0\n",
       "85820    999.0\n",
       "Name: precinct, Length: 838, dtype: float64"
      ]
     },
     "execution_count": 29,
     "metadata": {},
     "output_type": "execute_result"
    }
   ],
   "source": [
    "iqr(df.precinct)"
   ]
  },
  {
   "cell_type": "markdown",
   "metadata": {},
   "source": [
    "###  Z-score method\n",
    "\n",
    "Z-Score = (X-mean) / Standard deviation"
   ]
  },
  {
   "cell_type": "code",
   "execution_count": 25,
   "metadata": {},
   "outputs": [],
   "source": [
    "#FUNCTION TO DETECT OUTLIERS USING Z-SCORE METHOD\n",
    "def zscore_outlier(col,lb,ub):\n",
    "    zscore = ((col - col.mean()) / col.std()).copy()\n",
    "    return col[((zscore < lb) | (zscore > ub))]"
   ]
  },
  {
   "cell_type": "code",
   "execution_count": 33,
   "metadata": {},
   "outputs": [
    {
     "data": {
      "text/plain": [
       "9        999.0\n",
       "33       999.0\n",
       "70       999.0\n",
       "215      999.0\n",
       "347      999.0\n",
       "         ...  \n",
       "85117    999.0\n",
       "85279    999.0\n",
       "85718    999.0\n",
       "85781    999.0\n",
       "85820    999.0\n",
       "Name: precinct, Length: 838, dtype: float64"
      ]
     },
     "execution_count": 33,
     "metadata": {},
     "output_type": "execute_result"
    }
   ],
   "source": [
    "zscore_outlier(df.precinct,-3,3)"
   ]
  },
  {
   "cell_type": "code",
   "execution_count": null,
   "metadata": {},
   "outputs": [],
   "source": []
  }
 ],
 "metadata": {
  "kernelspec": {
   "display_name": "Python 3",
   "language": "python",
   "name": "python3"
  },
  "language_info": {
   "codemirror_mode": {
    "name": "ipython",
    "version": 3
   },
   "file_extension": ".py",
   "mimetype": "text/x-python",
   "name": "python",
   "nbconvert_exporter": "python",
   "pygments_lexer": "ipython3",
   "version": "3.8.8"
  }
 },
 "nbformat": 4,
 "nbformat_minor": 4
}
